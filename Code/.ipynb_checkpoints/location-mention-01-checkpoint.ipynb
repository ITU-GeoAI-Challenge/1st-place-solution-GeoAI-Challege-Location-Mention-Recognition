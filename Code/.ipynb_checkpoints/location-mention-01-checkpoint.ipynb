{
 "cells": [
  {
   "cell_type": "markdown",
   "id": "454a3e55",
   "metadata": {
    "papermill": {
     "duration": 0.018533,
     "end_time": "2023-10-23T21:16:22.293505",
     "exception": false,
     "start_time": "2023-10-23T21:16:22.274972",
     "status": "completed"
    },
    "tags": []
   },
   "source": [
    "### Author: Olufemi Victor Tolulope"
   ]
  },
  {
   "cell_type": "markdown",
   "id": "88552e0e",
   "metadata": {
    "papermill": {
     "duration": 0.017055,
     "end_time": "2023-10-23T21:16:22.328120",
     "exception": false,
     "start_time": "2023-10-23T21:16:22.311065",
     "status": "completed"
    },
    "tags": []
   },
   "source": [
    "# INTRO.\n",
    "\n",
    "This Notebook details my solution for the [GeoAI Challege Location Mention Recognition from Social Media by ITU](https://zindi.africa/competitions/geoai-challege-location-mention-recognition-from-social-media) Challenge. The goal of this challenge is to encourage the development of systems for Location Mention Recognition (LMR) from microblogging posts during emergencies. These automatic systems are anticipated to support the relief activities that are executed by the response authorities during disasters."
   ]
  },
  {
   "cell_type": "markdown",
   "id": "ae606596",
   "metadata": {
    "papermill": {
     "duration": 0.016974,
     "end_time": "2023-10-23T21:16:22.362301",
     "exception": false,
     "start_time": "2023-10-23T21:16:22.345327",
     "status": "completed"
    },
    "tags": []
   },
   "source": [
    "# The Data\n",
    "* The Dataset used is the official IDRISI dataset available on the Github Repository here: https://github.com/rsuwaileh/IDRISI/tree/main/LMR\n",
    "\n",
    "We were also provided a sample submission by Zindi which was downloaded from the Data Tab where the competition was hosted"
   ]
  },
  {
   "cell_type": "markdown",
   "id": "38e849fe",
   "metadata": {
    "papermill": {
     "duration": 0.016903,
     "end_time": "2023-10-23T21:16:22.396384",
     "exception": false,
     "start_time": "2023-10-23T21:16:22.379481",
     "status": "completed"
    },
    "tags": []
   },
   "source": [
    "# Setup & Extra Info\n",
    "\n",
    "* Kaggle Kernnels\n",
    "* Nvidia Tesla P100\n",
    "* Notebook Runtime: 3 minutes 23 Seconds"
   ]
  },
  {
   "cell_type": "markdown",
   "id": "c8e99512",
   "metadata": {
    "papermill": {
     "duration": 0.017258,
     "end_time": "2023-10-23T21:16:22.430731",
     "exception": false,
     "start_time": "2023-10-23T21:16:22.413473",
     "status": "completed"
    },
    "tags": []
   },
   "source": [
    "### Acknowledgements.\n",
    "\n",
    "Winning this competiton wouldn't have been possible without leveraging the awesome work of **Dr Reem Suwaileh (PhD)** and learning from her ground breaking work on LMR. The Affilated resources leveraged are:\n",
    "\n",
    "* Annotation Guidelines PDF - Available in Dr Reem's Github Repo & Dataset\n",
    "* Time-Critical Geolocation for Social Good - Dr Reem's Conference Paper\n",
    "* Model Baselines - Available & Open Source on Dr Reem's HuggingFace Account"
   ]
  },
  {
   "cell_type": "code",
   "execution_count": 1,
   "id": "a755c5a6",
   "metadata": {
    "execution": {
     "iopub.execute_input": "2023-10-23T21:16:22.467207Z",
     "iopub.status.busy": "2023-10-23T21:16:22.466807Z",
     "iopub.status.idle": "2023-10-23T21:16:27.248884Z",
     "shell.execute_reply": "2023-10-23T21:16:27.247824Z"
    },
    "id": "rN5vbrLYpjJT",
    "outputId": "d8209eac-726f-4dd2-d37d-eed37077c60c",
    "papermill": {
     "duration": 4.803055,
     "end_time": "2023-10-23T21:16:27.250931",
     "exception": false,
     "start_time": "2023-10-23T21:16:22.447876",
     "status": "completed"
    },
    "tags": []
   },
   "outputs": [
    {
     "name": "stdout",
     "output_type": "stream",
     "text": [
      "Cloning into 'IDRISI'...\r\n",
      "remote: Enumerating objects: 1303, done.\u001b[K\r\n",
      "remote: Counting objects: 100% (210/210), done.\u001b[K\r\n",
      "remote: Compressing objects: 100% (153/153), done.\u001b[K\r\n",
      "remote: Total 1303 (delta 67), reused 160 (delta 51), pack-reused 1093\u001b[K\r\n",
      "Receiving objects: 100% (1303/1303), 28.50 MiB | 21.44 MiB/s, done.\r\n",
      "Resolving deltas: 100% (411/411), done.\r\n",
      "Updating files: 100% (294/294), done.\r\n"
     ]
    }
   ],
   "source": [
    "!git clone \"https://github.com/rsuwaileh/IDRISI.git\" # Clone the Dataset on the Github repository"
   ]
  },
  {
   "cell_type": "code",
   "execution_count": 2,
   "id": "4a5659ed",
   "metadata": {
    "execution": {
     "iopub.execute_input": "2023-10-23T21:16:27.292382Z",
     "iopub.status.busy": "2023-10-23T21:16:27.292071Z",
     "iopub.status.idle": "2023-10-23T21:16:39.867729Z",
     "shell.execute_reply": "2023-10-23T21:16:39.866472Z"
    },
    "id": "ydzaySNlupOv",
    "outputId": "f5870bf6-32e0-4ca8-f93c-86f5a9911505",
    "papermill": {
     "duration": 12.598871,
     "end_time": "2023-10-23T21:16:39.869985",
     "exception": false,
     "start_time": "2023-10-23T21:16:27.271114",
     "status": "completed"
    },
    "tags": []
   },
   "outputs": [],
   "source": [
    "!pip install transformers -qq # Install Transformers"
   ]
  },
  {
   "cell_type": "code",
   "execution_count": 3,
   "id": "93f2b24a",
   "metadata": {
    "execution": {
     "iopub.execute_input": "2023-10-23T21:16:39.912672Z",
     "iopub.status.busy": "2023-10-23T21:16:39.912009Z",
     "iopub.status.idle": "2023-10-23T21:16:40.623319Z",
     "shell.execute_reply": "2023-10-23T21:16:40.622160Z"
    },
    "id": "LY8Be4TvqCGE",
    "papermill": {
     "duration": 0.734994,
     "end_time": "2023-10-23T21:16:40.625545",
     "exception": false,
     "start_time": "2023-10-23T21:16:39.890551",
     "status": "completed"
    },
    "tags": []
   },
   "outputs": [],
   "source": [
    "# Import the libraries needed\n",
    "\n",
    "import os\n",
    "import pandas as pd\n",
    "import tqdm\n",
    "import warnings\n",
    "warnings.filterwarnings(\"ignore\")"
   ]
  },
  {
   "cell_type": "markdown",
   "id": "d0aaed9f",
   "metadata": {
    "papermill": {
     "duration": 0.019939,
     "end_time": "2023-10-23T21:16:40.666119",
     "exception": false,
     "start_time": "2023-10-23T21:16:40.646180",
     "status": "completed"
    },
    "tags": []
   },
   "source": [
    "###### Create the Dataset by combining the Data from Individual folders"
   ]
  },
  {
   "cell_type": "code",
   "execution_count": 4,
   "id": "c1d1b581",
   "metadata": {
    "execution": {
     "iopub.execute_input": "2023-10-23T21:16:40.707056Z",
     "iopub.status.busy": "2023-10-23T21:16:40.706646Z",
     "iopub.status.idle": "2023-10-23T21:16:40.714255Z",
     "shell.execute_reply": "2023-10-23T21:16:40.713327Z"
    },
    "id": "60nHD6bspy7U",
    "outputId": "3c436850-79a5-4127-b16d-a9d0e52bafb3",
    "papermill": {
     "duration": 0.03061,
     "end_time": "2023-10-23T21:16:40.716432",
     "exception": false,
     "start_time": "2023-10-23T21:16:40.685822",
     "status": "completed"
    },
    "tags": []
   },
   "outputs": [
    {
     "data": {
      "text/plain": [
       "['hurricane_matthew_2016',\n",
       " 'kaikoura_earthquake_2016',\n",
       " 'hurricane_dorian_2019',\n",
       " 'greece_wildfires_2018',\n",
       " 'cyclone_idai_2019',\n",
       " 'kerala_floods_2018',\n",
       " 'california_wildfires_2018',\n",
       " 'srilanka_floods_2017',\n",
       " 'hurricane_irma_2017',\n",
       " 'hurricane_maria_2017',\n",
       " 'puebla_mexico_earthquake_2017',\n",
       " 'ecuador_earthquake_2016',\n",
       " 'pakistan_earthquake_2019',\n",
       " 'hurricane_florence_2018',\n",
       " 'canada_wildfires_2016',\n",
       " 'maryland_floods_2018',\n",
       " 'midwestern_us_floods_2019',\n",
       " 'italy_earthquake_aug_2016',\n",
       " 'hurricane_harvey_2017']"
      ]
     },
     "execution_count": 4,
     "metadata": {},
     "output_type": "execute_result"
    }
   ],
   "source": [
    "directories = os.listdir(\"IDRISI/LMR/data/EN/gold-random-json\")\n",
    "directories"
   ]
  },
  {
   "cell_type": "code",
   "execution_count": 5,
   "id": "6ef7a7c6",
   "metadata": {
    "execution": {
     "iopub.execute_input": "2023-10-23T21:16:40.758436Z",
     "iopub.status.busy": "2023-10-23T21:16:40.757825Z",
     "iopub.status.idle": "2023-10-23T21:16:40.761750Z",
     "shell.execute_reply": "2023-10-23T21:16:40.760904Z"
    },
    "id": "DYckQI2DqE58",
    "papermill": {
     "duration": 0.026729,
     "end_time": "2023-10-23T21:16:40.763547",
     "exception": false,
     "start_time": "2023-10-23T21:16:40.736818",
     "status": "completed"
    },
    "tags": []
   },
   "outputs": [],
   "source": [
    "path = \"IDRISI/LMR/data/EN/gold-random-json/\""
   ]
  },
  {
   "cell_type": "code",
   "execution_count": 6,
   "id": "174b729f",
   "metadata": {
    "execution": {
     "iopub.execute_input": "2023-10-23T21:16:40.847370Z",
     "iopub.status.busy": "2023-10-23T21:16:40.846575Z",
     "iopub.status.idle": "2023-10-23T21:16:40.854120Z",
     "shell.execute_reply": "2023-10-23T21:16:40.853290Z"
    },
    "id": "YAMc-nVzs7vr",
    "papermill": {
     "duration": 0.030591,
     "end_time": "2023-10-23T21:16:40.856005",
     "exception": false,
     "start_time": "2023-10-23T21:16:40.825414",
     "status": "completed"
    },
    "tags": []
   },
   "outputs": [],
   "source": [
    "train_df = pd.DataFrame()\n",
    "test_df = pd.DataFrame()\n",
    "valid_df = pd.DataFrame()"
   ]
  },
  {
   "cell_type": "code",
   "execution_count": 7,
   "id": "fd982422",
   "metadata": {
    "execution": {
     "iopub.execute_input": "2023-10-23T21:16:40.897976Z",
     "iopub.status.busy": "2023-10-23T21:16:40.897650Z",
     "iopub.status.idle": "2023-10-23T21:16:44.941571Z",
     "shell.execute_reply": "2023-10-23T21:16:44.940429Z"
    },
    "id": "xvCTEjUcqKXu",
    "outputId": "c0bf9962-b0b4-45bc-f70e-7a37dd6f3d05",
    "papermill": {
     "duration": 4.06839,
     "end_time": "2023-10-23T21:16:44.944687",
     "exception": false,
     "start_time": "2023-10-23T21:16:40.876297",
     "status": "completed"
    },
    "tags": []
   },
   "outputs": [
    {
     "name": "stderr",
     "output_type": "stream",
     "text": [
      "100%|██████████| 19/19 [00:04<00:00,  4.73it/s]\n"
     ]
    }
   ],
   "source": [
    "for i in tqdm.tqdm(directories):\n",
    "  cur_path = path+i\n",
    "  train = pd.read_json(cur_path + \"/train.jsonl\", lines=True)\n",
    "  test = pd.read_json(cur_path + \"/test_unlabeled.jsonl\", lines=True)\n",
    "  valid = pd.read_json(cur_path + \"/dev.jsonl\", lines=True)\n",
    "  train_df = pd.concat([train_df,train])\n",
    "  test_df = pd.concat([test_df,test])\n",
    "  valid_df = pd.concat([valid_df,valid])"
   ]
  },
  {
   "cell_type": "code",
   "execution_count": 8,
   "id": "be53ea95",
   "metadata": {
    "execution": {
     "iopub.execute_input": "2023-10-23T21:16:44.991978Z",
     "iopub.status.busy": "2023-10-23T21:16:44.991668Z",
     "iopub.status.idle": "2023-10-23T21:16:45.059372Z",
     "shell.execute_reply": "2023-10-23T21:16:45.058488Z"
    },
    "id": "afJCJhExkBDX",
    "outputId": "f9c699b7-2bb9-4bf8-9c99-87e4133009e7",
    "papermill": {
     "duration": 0.092846,
     "end_time": "2023-10-23T21:16:45.061767",
     "exception": false,
     "start_time": "2023-10-23T21:16:44.968921",
     "status": "completed"
    },
    "tags": []
   },
   "outputs": [
    {
     "data": {
      "text/html": [
       "<div>\n",
       "<style scoped>\n",
       "    .dataframe tbody tr th:only-of-type {\n",
       "        vertical-align: middle;\n",
       "    }\n",
       "\n",
       "    .dataframe tbody tr th {\n",
       "        vertical-align: top;\n",
       "    }\n",
       "\n",
       "    .dataframe thead th {\n",
       "        text-align: right;\n",
       "    }\n",
       "</style>\n",
       "<table border=\"1\" class=\"dataframe\">\n",
       "  <thead>\n",
       "    <tr style=\"text-align: right;\">\n",
       "      <th></th>\n",
       "      <th>tweet_id</th>\n",
       "      <th>user_id</th>\n",
       "      <th>text</th>\n",
       "      <th>created_at</th>\n",
       "      <th>humAID_class</th>\n",
       "    </tr>\n",
       "  </thead>\n",
       "  <tbody>\n",
       "    <tr>\n",
       "      <th>0</th>\n",
       "      <td>903597712251248640</td>\n",
       "      <td>869724130903564288</td>\n",
       "      <td>Harvey Live Updates: Death Toll Rises in Texas...</td>\n",
       "      <td>2017-09-01 12:37:37+00:00</td>\n",
       "      <td>injured_or_dead_people</td>\n",
       "    </tr>\n",
       "    <tr>\n",
       "      <th>1</th>\n",
       "      <td>902648150166568960</td>\n",
       "      <td>45684134</td>\n",
       "      <td>Quiet at Delco, Austin #Harvey evacuee shelter...</td>\n",
       "      <td>2017-08-29 21:44:24+00:00</td>\n",
       "      <td>displaced_people_and_evacuations</td>\n",
       "    </tr>\n",
       "    <tr>\n",
       "      <th>2</th>\n",
       "      <td>903644050150051840</td>\n",
       "      <td>2468244019</td>\n",
       "      <td>If there are any models affected by #Hurricane...</td>\n",
       "      <td>2017-09-01 15:41:45+00:00</td>\n",
       "      <td>rescue_volunteering_or_donation_effort</td>\n",
       "    </tr>\n",
       "    <tr>\n",
       "      <th>3</th>\n",
       "      <td>903435368481136640</td>\n",
       "      <td>3718403057</td>\n",
       "      <td>#Nationals Max Scherzer paying all adoption fe...</td>\n",
       "      <td>2017-09-01 01:52:31+00:00</td>\n",
       "      <td>displaced_people_and_evacuations</td>\n",
       "    </tr>\n",
       "    <tr>\n",
       "      <th>4</th>\n",
       "      <td>903646875437461504</td>\n",
       "      <td>45725942</td>\n",
       "      <td>We learned from #ColoradoFlood #Harvey survivo...</td>\n",
       "      <td>2017-09-01 15:52:58+00:00</td>\n",
       "      <td>requests_or_urgent_needs</td>\n",
       "    </tr>\n",
       "    <tr>\n",
       "      <th>...</th>\n",
       "      <td>...</td>\n",
       "      <td>...</td>\n",
       "      <td>...</td>\n",
       "      <td>...</td>\n",
       "      <td>...</td>\n",
       "    </tr>\n",
       "    <tr>\n",
       "      <th>254</th>\n",
       "      <td>902720844866211840</td>\n",
       "      <td>835855365526994944</td>\n",
       "      <td>#NeedWaterRescue #HarveyRescue #CajunNavy #Har...</td>\n",
       "      <td>2017-08-30 02:33:15+00:00</td>\n",
       "      <td>rescue_volunteering_or_donation_effort</td>\n",
       "    </tr>\n",
       "    <tr>\n",
       "      <th>255</th>\n",
       "      <td>902593911088185344</td>\n",
       "      <td>2801686349</td>\n",
       "      <td>In some areas, we are proactively taking servi...</td>\n",
       "      <td>2017-08-29 18:08:52+00:00</td>\n",
       "      <td>infrastructure_and_utility_damage</td>\n",
       "    </tr>\n",
       "    <tr>\n",
       "      <th>256</th>\n",
       "      <td>902643921016295424</td>\n",
       "      <td>111704438</td>\n",
       "      <td>GIVE NOW to provide families devastated by #Hu...</td>\n",
       "      <td>2017-08-29 21:27:35+00:00</td>\n",
       "      <td>rescue_volunteering_or_donation_effort</td>\n",
       "    </tr>\n",
       "    <tr>\n",
       "      <th>257</th>\n",
       "      <td>903613486537826304</td>\n",
       "      <td>21432912</td>\n",
       "      <td>SUPPORT AREA FOOD BANKS! @HoustonFoodBank @saf...</td>\n",
       "      <td>2017-09-01 13:40:18+00:00</td>\n",
       "      <td>rescue_volunteering_or_donation_effort</td>\n",
       "    </tr>\n",
       "    <tr>\n",
       "      <th>258</th>\n",
       "      <td>902639164809719808</td>\n",
       "      <td>2682967849</td>\n",
       "      <td>Harvey has caused my roof to leak and for a fe...</td>\n",
       "      <td>2017-08-29 21:08:41+00:00</td>\n",
       "      <td>infrastructure_and_utility_damage</td>\n",
       "    </tr>\n",
       "  </tbody>\n",
       "</table>\n",
       "<p>259 rows × 5 columns</p>\n",
       "</div>"
      ],
      "text/plain": [
       "               tweet_id             user_id  \\\n",
       "0    903597712251248640  869724130903564288   \n",
       "1    902648150166568960            45684134   \n",
       "2    903644050150051840          2468244019   \n",
       "3    903435368481136640          3718403057   \n",
       "4    903646875437461504            45725942   \n",
       "..                  ...                 ...   \n",
       "254  902720844866211840  835855365526994944   \n",
       "255  902593911088185344          2801686349   \n",
       "256  902643921016295424           111704438   \n",
       "257  903613486537826304            21432912   \n",
       "258  902639164809719808          2682967849   \n",
       "\n",
       "                                                  text  \\\n",
       "0    Harvey Live Updates: Death Toll Rises in Texas...   \n",
       "1    Quiet at Delco, Austin #Harvey evacuee shelter...   \n",
       "2    If there are any models affected by #Hurricane...   \n",
       "3    #Nationals Max Scherzer paying all adoption fe...   \n",
       "4    We learned from #ColoradoFlood #Harvey survivo...   \n",
       "..                                                 ...   \n",
       "254  #NeedWaterRescue #HarveyRescue #CajunNavy #Har...   \n",
       "255  In some areas, we are proactively taking servi...   \n",
       "256  GIVE NOW to provide families devastated by #Hu...   \n",
       "257  SUPPORT AREA FOOD BANKS! @HoustonFoodBank @saf...   \n",
       "258  Harvey has caused my roof to leak and for a fe...   \n",
       "\n",
       "                   created_at                            humAID_class  \n",
       "0   2017-09-01 12:37:37+00:00                  injured_or_dead_people  \n",
       "1   2017-08-29 21:44:24+00:00        displaced_people_and_evacuations  \n",
       "2   2017-09-01 15:41:45+00:00  rescue_volunteering_or_donation_effort  \n",
       "3   2017-09-01 01:52:31+00:00        displaced_people_and_evacuations  \n",
       "4   2017-09-01 15:52:58+00:00                requests_or_urgent_needs  \n",
       "..                        ...                                     ...  \n",
       "254 2017-08-30 02:33:15+00:00  rescue_volunteering_or_donation_effort  \n",
       "255 2017-08-29 18:08:52+00:00       infrastructure_and_utility_damage  \n",
       "256 2017-08-29 21:27:35+00:00  rescue_volunteering_or_donation_effort  \n",
       "257 2017-09-01 13:40:18+00:00  rescue_volunteering_or_donation_effort  \n",
       "258 2017-08-29 21:08:41+00:00       infrastructure_and_utility_damage  \n",
       "\n",
       "[259 rows x 5 columns]"
      ]
     },
     "execution_count": 8,
     "metadata": {},
     "output_type": "execute_result"
    }
   ],
   "source": [
    "pd.read_json(cur_path + \"/test_unlabeled.jsonl\", lines=True)"
   ]
  },
  {
   "cell_type": "markdown",
   "id": "bb233cf6",
   "metadata": {
    "papermill": {
     "duration": 0.022065,
     "end_time": "2023-10-23T21:16:45.107167",
     "exception": false,
     "start_time": "2023-10-23T21:16:45.085102",
     "status": "completed"
    },
    "tags": []
   },
   "source": [
    "###### Preview Test Data"
   ]
  },
  {
   "cell_type": "code",
   "execution_count": 9,
   "id": "7e6ad5fe",
   "metadata": {
    "execution": {
     "iopub.execute_input": "2023-10-23T21:16:45.153236Z",
     "iopub.status.busy": "2023-10-23T21:16:45.152940Z",
     "iopub.status.idle": "2023-10-23T21:16:45.166495Z",
     "shell.execute_reply": "2023-10-23T21:16:45.165605Z"
    },
    "id": "tkpglB_cZDeZ",
    "outputId": "ffcbbf17-8f47-4ca0-855e-261727787680",
    "papermill": {
     "duration": 0.03924,
     "end_time": "2023-10-23T21:16:45.168455",
     "exception": false,
     "start_time": "2023-10-23T21:16:45.129215",
     "status": "completed"
    },
    "tags": []
   },
   "outputs": [
    {
     "data": {
      "text/html": [
       "<div>\n",
       "<style scoped>\n",
       "    .dataframe tbody tr th:only-of-type {\n",
       "        vertical-align: middle;\n",
       "    }\n",
       "\n",
       "    .dataframe tbody tr th {\n",
       "        vertical-align: top;\n",
       "    }\n",
       "\n",
       "    .dataframe thead th {\n",
       "        text-align: right;\n",
       "    }\n",
       "</style>\n",
       "<table border=\"1\" class=\"dataframe\">\n",
       "  <thead>\n",
       "    <tr style=\"text-align: right;\">\n",
       "      <th></th>\n",
       "      <th>tweet_id</th>\n",
       "      <th>user_id</th>\n",
       "      <th>text</th>\n",
       "      <th>created_at</th>\n",
       "      <th>humAID_class</th>\n",
       "    </tr>\n",
       "  </thead>\n",
       "  <tbody>\n",
       "    <tr>\n",
       "      <th>0</th>\n",
       "      <td>783930991387762688</td>\n",
       "      <td>341678317</td>\n",
       "      <td>@shl Hurricane left Haiti. If YOU care donate ...</td>\n",
       "      <td>2016-10-06 07:24:47+00:00</td>\n",
       "      <td>rescue_volunteering_or_donation_effort</td>\n",
       "    </tr>\n",
       "    <tr>\n",
       "      <th>1</th>\n",
       "      <td>784697434656034816</td>\n",
       "      <td>29686692</td>\n",
       "      <td>RT @RT_com: Over 870 killed, 350,000 in need o...</td>\n",
       "      <td>2016-10-08 10:10:22+00:00</td>\n",
       "      <td>injured_or_dead_people</td>\n",
       "    </tr>\n",
       "    <tr>\n",
       "      <th>2</th>\n",
       "      <td>783884906833121280</td>\n",
       "      <td>2786381160</td>\n",
       "      <td>Im raising money for Hurricane Relief fund for...</td>\n",
       "      <td>2016-10-06 04:21:40+00:00</td>\n",
       "      <td>rescue_volunteering_or_donation_effort</td>\n",
       "    </tr>\n",
       "    <tr>\n",
       "      <th>3</th>\n",
       "      <td>783827456713121792</td>\n",
       "      <td>2795524054</td>\n",
       "      <td>#BreakingNews Hurricane Matthew kills 26 in Ca...</td>\n",
       "      <td>2016-10-06 00:33:23+00:00</td>\n",
       "      <td>injured_or_dead_people</td>\n",
       "    </tr>\n",
       "    <tr>\n",
       "      <th>4</th>\n",
       "      <td>783831315149881344</td>\n",
       "      <td>2755264697</td>\n",
       "      <td>In response to Hurricane Matthew and its devas...</td>\n",
       "      <td>2016-10-06 00:48:43+00:00</td>\n",
       "      <td>rescue_volunteering_or_donation_effort</td>\n",
       "    </tr>\n",
       "    <tr>\n",
       "      <th>...</th>\n",
       "      <td>...</td>\n",
       "      <td>...</td>\n",
       "      <td>...</td>\n",
       "      <td>...</td>\n",
       "      <td>...</td>\n",
       "    </tr>\n",
       "    <tr>\n",
       "      <th>254</th>\n",
       "      <td>902720844866211840</td>\n",
       "      <td>835855365526994944</td>\n",
       "      <td>#NeedWaterRescue #HarveyRescue #CajunNavy #Har...</td>\n",
       "      <td>2017-08-30 02:33:15+00:00</td>\n",
       "      <td>rescue_volunteering_or_donation_effort</td>\n",
       "    </tr>\n",
       "    <tr>\n",
       "      <th>255</th>\n",
       "      <td>902593911088185344</td>\n",
       "      <td>2801686349</td>\n",
       "      <td>In some areas, we are proactively taking servi...</td>\n",
       "      <td>2017-08-29 18:08:52+00:00</td>\n",
       "      <td>infrastructure_and_utility_damage</td>\n",
       "    </tr>\n",
       "    <tr>\n",
       "      <th>256</th>\n",
       "      <td>902643921016295424</td>\n",
       "      <td>111704438</td>\n",
       "      <td>GIVE NOW to provide families devastated by #Hu...</td>\n",
       "      <td>2017-08-29 21:27:35+00:00</td>\n",
       "      <td>rescue_volunteering_or_donation_effort</td>\n",
       "    </tr>\n",
       "    <tr>\n",
       "      <th>257</th>\n",
       "      <td>903613486537826304</td>\n",
       "      <td>21432912</td>\n",
       "      <td>SUPPORT AREA FOOD BANKS! @HoustonFoodBank @saf...</td>\n",
       "      <td>2017-09-01 13:40:18+00:00</td>\n",
       "      <td>rescue_volunteering_or_donation_effort</td>\n",
       "    </tr>\n",
       "    <tr>\n",
       "      <th>258</th>\n",
       "      <td>902639164809719808</td>\n",
       "      <td>2682967849</td>\n",
       "      <td>Harvey has caused my roof to leak and for a fe...</td>\n",
       "      <td>2017-08-29 21:08:41+00:00</td>\n",
       "      <td>infrastructure_and_utility_damage</td>\n",
       "    </tr>\n",
       "  </tbody>\n",
       "</table>\n",
       "<p>4066 rows × 5 columns</p>\n",
       "</div>"
      ],
      "text/plain": [
       "               tweet_id             user_id  \\\n",
       "0    783930991387762688           341678317   \n",
       "1    784697434656034816            29686692   \n",
       "2    783884906833121280          2786381160   \n",
       "3    783827456713121792          2795524054   \n",
       "4    783831315149881344          2755264697   \n",
       "..                  ...                 ...   \n",
       "254  902720844866211840  835855365526994944   \n",
       "255  902593911088185344          2801686349   \n",
       "256  902643921016295424           111704438   \n",
       "257  903613486537826304            21432912   \n",
       "258  902639164809719808          2682967849   \n",
       "\n",
       "                                                  text  \\\n",
       "0    @shl Hurricane left Haiti. If YOU care donate ...   \n",
       "1    RT @RT_com: Over 870 killed, 350,000 in need o...   \n",
       "2    Im raising money for Hurricane Relief fund for...   \n",
       "3    #BreakingNews Hurricane Matthew kills 26 in Ca...   \n",
       "4    In response to Hurricane Matthew and its devas...   \n",
       "..                                                 ...   \n",
       "254  #NeedWaterRescue #HarveyRescue #CajunNavy #Har...   \n",
       "255  In some areas, we are proactively taking servi...   \n",
       "256  GIVE NOW to provide families devastated by #Hu...   \n",
       "257  SUPPORT AREA FOOD BANKS! @HoustonFoodBank @saf...   \n",
       "258  Harvey has caused my roof to leak and for a fe...   \n",
       "\n",
       "                   created_at                            humAID_class  \n",
       "0   2016-10-06 07:24:47+00:00  rescue_volunteering_or_donation_effort  \n",
       "1   2016-10-08 10:10:22+00:00                  injured_or_dead_people  \n",
       "2   2016-10-06 04:21:40+00:00  rescue_volunteering_or_donation_effort  \n",
       "3   2016-10-06 00:33:23+00:00                  injured_or_dead_people  \n",
       "4   2016-10-06 00:48:43+00:00  rescue_volunteering_or_donation_effort  \n",
       "..                        ...                                     ...  \n",
       "254 2017-08-30 02:33:15+00:00  rescue_volunteering_or_donation_effort  \n",
       "255 2017-08-29 18:08:52+00:00       infrastructure_and_utility_damage  \n",
       "256 2017-08-29 21:27:35+00:00  rescue_volunteering_or_donation_effort  \n",
       "257 2017-09-01 13:40:18+00:00  rescue_volunteering_or_donation_effort  \n",
       "258 2017-08-29 21:08:41+00:00       infrastructure_and_utility_damage  \n",
       "\n",
       "[4066 rows x 5 columns]"
      ]
     },
     "execution_count": 9,
     "metadata": {},
     "output_type": "execute_result"
    }
   ],
   "source": [
    "test_df"
   ]
  },
  {
   "cell_type": "markdown",
   "id": "2a3161f4",
   "metadata": {
    "papermill": {
     "duration": 0.02239,
     "end_time": "2023-10-23T21:16:45.214410",
     "exception": false,
     "start_time": "2023-10-23T21:16:45.192020",
     "status": "completed"
    },
    "tags": []
   },
   "source": [
    "###### Preview Validation Data"
   ]
  },
  {
   "cell_type": "code",
   "execution_count": 10,
   "id": "85318108",
   "metadata": {
    "execution": {
     "iopub.execute_input": "2023-10-23T21:16:45.261415Z",
     "iopub.status.busy": "2023-10-23T21:16:45.260668Z",
     "iopub.status.idle": "2023-10-23T21:16:45.287194Z",
     "shell.execute_reply": "2023-10-23T21:16:45.286317Z"
    },
    "id": "y8YcgTOXa_xR",
    "outputId": "b54a5724-a0b5-4f1a-d200-de152e2bbd64",
    "papermill": {
     "duration": 0.051884,
     "end_time": "2023-10-23T21:16:45.289116",
     "exception": false,
     "start_time": "2023-10-23T21:16:45.237232",
     "status": "completed"
    },
    "tags": []
   },
   "outputs": [
    {
     "data": {
      "text/html": [
       "<div>\n",
       "<style scoped>\n",
       "    .dataframe tbody tr th:only-of-type {\n",
       "        vertical-align: middle;\n",
       "    }\n",
       "\n",
       "    .dataframe tbody tr th {\n",
       "        vertical-align: top;\n",
       "    }\n",
       "\n",
       "    .dataframe thead th {\n",
       "        text-align: right;\n",
       "    }\n",
       "</style>\n",
       "<table border=\"1\" class=\"dataframe\">\n",
       "  <thead>\n",
       "    <tr style=\"text-align: right;\">\n",
       "      <th></th>\n",
       "      <th>tweet_id</th>\n",
       "      <th>user_id</th>\n",
       "      <th>text</th>\n",
       "      <th>created_at</th>\n",
       "      <th>humAID_class</th>\n",
       "      <th>location_mentions</th>\n",
       "    </tr>\n",
       "  </thead>\n",
       "  <tbody>\n",
       "    <tr>\n",
       "      <th>0</th>\n",
       "      <td>783610962645553152</td>\n",
       "      <td>18456335</td>\n",
       "      <td>TOP STORY: South Carolina begins evacuation of...</td>\n",
       "      <td>2016-10-05 10:13:06+00:00</td>\n",
       "      <td>displaced_people_and_evacuations</td>\n",
       "      <td>[{'text': 'South Carolina', 'type': 'State', '...</td>\n",
       "    </tr>\n",
       "    <tr>\n",
       "      <th>1</th>\n",
       "      <td>783803775702011904</td>\n",
       "      <td>1161665851</td>\n",
       "      <td>RatedBama just posted Haiti Costal Town Destro...</td>\n",
       "      <td>2016-10-05 22:59:17+00:00</td>\n",
       "      <td>infrastructure_and_utility_damage</td>\n",
       "      <td>[{'text': 'Haiti', 'type': 'Country', 'start_o...</td>\n",
       "    </tr>\n",
       "    <tr>\n",
       "      <th>2</th>\n",
       "      <td>783873541871693824</td>\n",
       "      <td>367910041</td>\n",
       "      <td>#TheCoeReport: At Least 4 Killed As Hurricane ...</td>\n",
       "      <td>2016-10-06 03:36:30+00:00</td>\n",
       "      <td>injured_or_dead_people</td>\n",
       "      <td>[{'text': 'Haiti', 'type': 'Island', 'start_of...</td>\n",
       "    </tr>\n",
       "    <tr>\n",
       "      <th>3</th>\n",
       "      <td>784649193872842752</td>\n",
       "      <td>1933130743</td>\n",
       "      <td>RT @eNCA: eNCA | UPDATE: Hurricane Matthew kil...</td>\n",
       "      <td>2016-10-08 06:58:40+00:00</td>\n",
       "      <td>injured_or_dead_people</td>\n",
       "      <td>[{'text': 'Haiti', 'type': 'Country', 'start_o...</td>\n",
       "    </tr>\n",
       "    <tr>\n",
       "      <th>4</th>\n",
       "      <td>783750547564355584</td>\n",
       "      <td>16031927</td>\n",
       "      <td>Hurricane Matthew Leaves Catastrophic Devastat...</td>\n",
       "      <td>2016-10-05 19:27:46+00:00</td>\n",
       "      <td>injured_or_dead_people</td>\n",
       "      <td>[{'text': 'Haiti', 'type': 'Country', 'start_o...</td>\n",
       "    </tr>\n",
       "    <tr>\n",
       "      <th>...</th>\n",
       "      <td>...</td>\n",
       "      <td>...</td>\n",
       "      <td>...</td>\n",
       "      <td>...</td>\n",
       "      <td>...</td>\n",
       "      <td>...</td>\n",
       "    </tr>\n",
       "    <tr>\n",
       "      <th>2051</th>\n",
       "      <td>903374296428535808</td>\n",
       "      <td>98514862</td>\n",
       "      <td>.@uiltexas announces waiver process for studen...</td>\n",
       "      <td>2017-08-31 21:49:50+00:00</td>\n",
       "      <td>displaced_people_and_evacuations</td>\n",
       "      <td>[]</td>\n",
       "    </tr>\n",
       "    <tr>\n",
       "      <th>2052</th>\n",
       "      <td>902724913865379840</td>\n",
       "      <td>902704854921076736</td>\n",
       "      <td>@JoelOsteen help our cause please #HopeForHous...</td>\n",
       "      <td>2017-08-30 02:49:25+00:00</td>\n",
       "      <td>requests_or_urgent_needs</td>\n",
       "      <td>[]</td>\n",
       "    </tr>\n",
       "    <tr>\n",
       "      <th>2053</th>\n",
       "      <td>902917702494420992</td>\n",
       "      <td>2787131373</td>\n",
       "      <td>Dangerous flooding! Friend posted this pic of ...</td>\n",
       "      <td>2017-08-30 15:35:30+00:00</td>\n",
       "      <td>infrastructure_and_utility_damage</td>\n",
       "      <td>[{'text': 'Beaumont', 'type': 'City/town', 'st...</td>\n",
       "    </tr>\n",
       "    <tr>\n",
       "      <th>2054</th>\n",
       "      <td>902653388365680640</td>\n",
       "      <td>3237333328</td>\n",
       "      <td>Remember to text HARVEY to 90999 to donate $10...</td>\n",
       "      <td>2017-08-29 22:05:12+00:00</td>\n",
       "      <td>rescue_volunteering_or_donation_effort</td>\n",
       "      <td>[]</td>\n",
       "    </tr>\n",
       "    <tr>\n",
       "      <th>2055</th>\n",
       "      <td>902750773817331712</td>\n",
       "      <td>2546590399</td>\n",
       "      <td>#harvey At least 20 people have died in storm-...</td>\n",
       "      <td>2017-08-30 04:32:11+00:00</td>\n",
       "      <td>injured_or_dead_people</td>\n",
       "      <td>[{'text': 'Texas', 'type': 'State', 'start_off...</td>\n",
       "    </tr>\n",
       "  </tbody>\n",
       "</table>\n",
       "<p>2056 rows × 6 columns</p>\n",
       "</div>"
      ],
      "text/plain": [
       "                tweet_id             user_id  \\\n",
       "0     783610962645553152            18456335   \n",
       "1     783803775702011904          1161665851   \n",
       "2     783873541871693824           367910041   \n",
       "3     784649193872842752          1933130743   \n",
       "4     783750547564355584            16031927   \n",
       "...                  ...                 ...   \n",
       "2051  903374296428535808            98514862   \n",
       "2052  902724913865379840  902704854921076736   \n",
       "2053  902917702494420992          2787131373   \n",
       "2054  902653388365680640          3237333328   \n",
       "2055  902750773817331712          2546590399   \n",
       "\n",
       "                                                   text  \\\n",
       "0     TOP STORY: South Carolina begins evacuation of...   \n",
       "1     RatedBama just posted Haiti Costal Town Destro...   \n",
       "2     #TheCoeReport: At Least 4 Killed As Hurricane ...   \n",
       "3     RT @eNCA: eNCA | UPDATE: Hurricane Matthew kil...   \n",
       "4     Hurricane Matthew Leaves Catastrophic Devastat...   \n",
       "...                                                 ...   \n",
       "2051  .@uiltexas announces waiver process for studen...   \n",
       "2052  @JoelOsteen help our cause please #HopeForHous...   \n",
       "2053  Dangerous flooding! Friend posted this pic of ...   \n",
       "2054  Remember to text HARVEY to 90999 to donate $10...   \n",
       "2055  #harvey At least 20 people have died in storm-...   \n",
       "\n",
       "                    created_at                            humAID_class  \\\n",
       "0    2016-10-05 10:13:06+00:00        displaced_people_and_evacuations   \n",
       "1    2016-10-05 22:59:17+00:00       infrastructure_and_utility_damage   \n",
       "2    2016-10-06 03:36:30+00:00                  injured_or_dead_people   \n",
       "3    2016-10-08 06:58:40+00:00                  injured_or_dead_people   \n",
       "4    2016-10-05 19:27:46+00:00                  injured_or_dead_people   \n",
       "...                        ...                                     ...   \n",
       "2051 2017-08-31 21:49:50+00:00        displaced_people_and_evacuations   \n",
       "2052 2017-08-30 02:49:25+00:00                requests_or_urgent_needs   \n",
       "2053 2017-08-30 15:35:30+00:00       infrastructure_and_utility_damage   \n",
       "2054 2017-08-29 22:05:12+00:00  rescue_volunteering_or_donation_effort   \n",
       "2055 2017-08-30 04:32:11+00:00                  injured_or_dead_people   \n",
       "\n",
       "                                      location_mentions  \n",
       "0     [{'text': 'South Carolina', 'type': 'State', '...  \n",
       "1     [{'text': 'Haiti', 'type': 'Country', 'start_o...  \n",
       "2     [{'text': 'Haiti', 'type': 'Island', 'start_of...  \n",
       "3     [{'text': 'Haiti', 'type': 'Country', 'start_o...  \n",
       "4     [{'text': 'Haiti', 'type': 'Country', 'start_o...  \n",
       "...                                                 ...  \n",
       "2051                                                 []  \n",
       "2052                                                 []  \n",
       "2053  [{'text': 'Beaumont', 'type': 'City/town', 'st...  \n",
       "2054                                                 []  \n",
       "2055  [{'text': 'Texas', 'type': 'State', 'start_off...  \n",
       "\n",
       "[2056 rows x 6 columns]"
      ]
     },
     "execution_count": 10,
     "metadata": {},
     "output_type": "execute_result"
    }
   ],
   "source": [
    "valid_df = valid_df.reset_index(drop=True)\n",
    "valid_df"
   ]
  },
  {
   "cell_type": "markdown",
   "id": "83dc31da",
   "metadata": {
    "papermill": {
     "duration": 0.022849,
     "end_time": "2023-10-23T21:16:45.334889",
     "exception": false,
     "start_time": "2023-10-23T21:16:45.312040",
     "status": "completed"
    },
    "tags": []
   },
   "source": [
    "We can safely discard other columns and focus on the task at hand"
   ]
  },
  {
   "cell_type": "code",
   "execution_count": 11,
   "id": "3ab64789",
   "metadata": {
    "execution": {
     "iopub.execute_input": "2023-10-23T21:16:45.382541Z",
     "iopub.status.busy": "2023-10-23T21:16:45.381975Z",
     "iopub.status.idle": "2023-10-23T21:16:45.398437Z",
     "shell.execute_reply": "2023-10-23T21:16:45.397522Z"
    },
    "id": "BdxetuGsqpSI",
    "papermill": {
     "duration": 0.042519,
     "end_time": "2023-10-23T21:16:45.400447",
     "exception": false,
     "start_time": "2023-10-23T21:16:45.357928",
     "status": "completed"
    },
    "tags": []
   },
   "outputs": [],
   "source": [
    "train_df = train_df.reset_index(drop=True)[[\"tweet_id\",\"text\",\"location_mentions\"]]\n",
    "test_df = test_df.reset_index(drop=True)[[\"tweet_id\",\"text\"]]\n",
    "valid_df = valid_df.reset_index(drop=True)[[\"tweet_id\",\"text\",\"location_mentions\"]]"
   ]
  },
  {
   "cell_type": "markdown",
   "id": "cc8317b0",
   "metadata": {
    "papermill": {
     "duration": 0.022983,
     "end_time": "2023-10-23T21:16:45.446396",
     "exception": false,
     "start_time": "2023-10-23T21:16:45.423413",
     "status": "completed"
    },
    "tags": []
   },
   "source": [
    "###### Preview Train Dataframe"
   ]
  },
  {
   "cell_type": "code",
   "execution_count": 12,
   "id": "14184894",
   "metadata": {
    "execution": {
     "iopub.execute_input": "2023-10-23T21:16:45.493989Z",
     "iopub.status.busy": "2023-10-23T21:16:45.493671Z",
     "iopub.status.idle": "2023-10-23T21:16:45.513071Z",
     "shell.execute_reply": "2023-10-23T21:16:45.512267Z"
    },
    "id": "orjznb-7qxD2",
    "outputId": "a1352509-171e-47c9-cc68-645b3407138b",
    "papermill": {
     "duration": 0.045767,
     "end_time": "2023-10-23T21:16:45.514955",
     "exception": false,
     "start_time": "2023-10-23T21:16:45.469188",
     "status": "completed"
    },
    "tags": []
   },
   "outputs": [
    {
     "data": {
      "text/html": [
       "<div>\n",
       "<style scoped>\n",
       "    .dataframe tbody tr th:only-of-type {\n",
       "        vertical-align: middle;\n",
       "    }\n",
       "\n",
       "    .dataframe tbody tr th {\n",
       "        vertical-align: top;\n",
       "    }\n",
       "\n",
       "    .dataframe thead th {\n",
       "        text-align: right;\n",
       "    }\n",
       "</style>\n",
       "<table border=\"1\" class=\"dataframe\">\n",
       "  <thead>\n",
       "    <tr style=\"text-align: right;\">\n",
       "      <th></th>\n",
       "      <th>tweet_id</th>\n",
       "      <th>text</th>\n",
       "      <th>location_mentions</th>\n",
       "    </tr>\n",
       "  </thead>\n",
       "  <tbody>\n",
       "    <tr>\n",
       "      <th>0</th>\n",
       "      <td>784649154194710528</td>\n",
       "      <td>Flash Flood Warning for Bamberg, Calhoun, Clar...</td>\n",
       "      <td>[{'text': 'Bamberg', 'type': 'City/town', 'sta...</td>\n",
       "    </tr>\n",
       "    <tr>\n",
       "      <th>1</th>\n",
       "      <td>783773548292743168</td>\n",
       "      <td>We Were Already In A Cholera Crisis; Hurricane...</td>\n",
       "      <td>[{'text': 'Haiti', 'type': 'Country', 'start_o...</td>\n",
       "    </tr>\n",
       "    <tr>\n",
       "      <th>2</th>\n",
       "      <td>783690110051098624</td>\n",
       "      <td>#HurricaneMatthew moves into #Bahamas after ba...</td>\n",
       "      <td>[{'text': 'Bahamas', 'type': 'Island', 'start_...</td>\n",
       "    </tr>\n",
       "    <tr>\n",
       "      <th>3</th>\n",
       "      <td>783642745000910848</td>\n",
       "      <td>RT @robynpike: .@TeamBrokenEarth is accepting ...</td>\n",
       "      <td>[{'text': 'Haiti', 'type': 'Country', 'start_o...</td>\n",
       "    </tr>\n",
       "    <tr>\n",
       "      <th>4</th>\n",
       "      <td>783447364564574208</td>\n",
       "      <td>To make a donation to Heart of God Haitis Hurr...</td>\n",
       "      <td>[{'text': 'Haitis', 'type': 'Country', 'start_...</td>\n",
       "    </tr>\n",
       "    <tr>\n",
       "      <th>...</th>\n",
       "      <td>...</td>\n",
       "      <td>...</td>\n",
       "      <td>...</td>\n",
       "    </tr>\n",
       "    <tr>\n",
       "      <th>14387</th>\n",
       "      <td>901745837281349632</td>\n",
       "      <td>RT @TexasTribune: Stay safe, Houston. Watch @K...</td>\n",
       "      <td>[{'text': 'Houston', 'type': 'City/town', 'sta...</td>\n",
       "    </tr>\n",
       "    <tr>\n",
       "      <th>14388</th>\n",
       "      <td>903622085116907520</td>\n",
       "      <td>RESPONDING TO HURRICANE HARVEY First Congregat...</td>\n",
       "      <td>[{'text': 'First Congregational Church', 'type...</td>\n",
       "    </tr>\n",
       "    <tr>\n",
       "      <th>14389</th>\n",
       "      <td>902841464710766592</td>\n",
       "      <td>Don’t drive through flooded areas &amp; standing w...</td>\n",
       "      <td>[]</td>\n",
       "    </tr>\n",
       "    <tr>\n",
       "      <th>14390</th>\n",
       "      <td>903398455204294656</td>\n",
       "      <td>HFD has answered 800 calls since midnight, 22 ...</td>\n",
       "      <td>[]</td>\n",
       "    </tr>\n",
       "    <tr>\n",
       "      <th>14391</th>\n",
       "      <td>902916142745956352</td>\n",
       "      <td>By Tuesday, at least 40,000 people had been di...</td>\n",
       "      <td>[{'text': 'Galveston County', 'type': 'County'...</td>\n",
       "    </tr>\n",
       "  </tbody>\n",
       "</table>\n",
       "<p>14392 rows × 3 columns</p>\n",
       "</div>"
      ],
      "text/plain": [
       "                 tweet_id                                               text  \\\n",
       "0      784649154194710528  Flash Flood Warning for Bamberg, Calhoun, Clar...   \n",
       "1      783773548292743168  We Were Already In A Cholera Crisis; Hurricane...   \n",
       "2      783690110051098624  #HurricaneMatthew moves into #Bahamas after ba...   \n",
       "3      783642745000910848  RT @robynpike: .@TeamBrokenEarth is accepting ...   \n",
       "4      783447364564574208  To make a donation to Heart of God Haitis Hurr...   \n",
       "...                   ...                                                ...   \n",
       "14387  901745837281349632  RT @TexasTribune: Stay safe, Houston. Watch @K...   \n",
       "14388  903622085116907520  RESPONDING TO HURRICANE HARVEY First Congregat...   \n",
       "14389  902841464710766592  Don’t drive through flooded areas & standing w...   \n",
       "14390  903398455204294656  HFD has answered 800 calls since midnight, 22 ...   \n",
       "14391  902916142745956352  By Tuesday, at least 40,000 people had been di...   \n",
       "\n",
       "                                       location_mentions  \n",
       "0      [{'text': 'Bamberg', 'type': 'City/town', 'sta...  \n",
       "1      [{'text': 'Haiti', 'type': 'Country', 'start_o...  \n",
       "2      [{'text': 'Bahamas', 'type': 'Island', 'start_...  \n",
       "3      [{'text': 'Haiti', 'type': 'Country', 'start_o...  \n",
       "4      [{'text': 'Haitis', 'type': 'Country', 'start_...  \n",
       "...                                                  ...  \n",
       "14387  [{'text': 'Houston', 'type': 'City/town', 'sta...  \n",
       "14388  [{'text': 'First Congregational Church', 'type...  \n",
       "14389                                                 []  \n",
       "14390                                                 []  \n",
       "14391  [{'text': 'Galveston County', 'type': 'County'...  \n",
       "\n",
       "[14392 rows x 3 columns]"
      ]
     },
     "execution_count": 12,
     "metadata": {},
     "output_type": "execute_result"
    }
   ],
   "source": [
    "train_df"
   ]
  },
  {
   "cell_type": "code",
   "execution_count": 13,
   "id": "d9d68e9c",
   "metadata": {
    "execution": {
     "iopub.execute_input": "2023-10-23T21:16:45.562812Z",
     "iopub.status.busy": "2023-10-23T21:16:45.562529Z",
     "iopub.status.idle": "2023-10-23T21:16:45.723162Z",
     "shell.execute_reply": "2023-10-23T21:16:45.722349Z"
    },
    "id": "bi08GB_AtgK0",
    "papermill": {
     "duration": 0.187304,
     "end_time": "2023-10-23T21:16:45.725517",
     "exception": false,
     "start_time": "2023-10-23T21:16:45.538213",
     "status": "completed"
    },
    "tags": []
   },
   "outputs": [],
   "source": [
    "ss = pd.read_csv(\"/kaggle/input/location-mention-sample-submission/SampleSubmission.csv\")"
   ]
  },
  {
   "cell_type": "markdown",
   "id": "47f7bc63",
   "metadata": {
    "papermill": {
     "duration": 0.02311,
     "end_time": "2023-10-23T21:16:45.772848",
     "exception": false,
     "start_time": "2023-10-23T21:16:45.749738",
     "status": "completed"
    },
    "tags": []
   },
   "source": [
    "###### Inference on test set\n",
    "\n",
    "Here we leverage on Dr Reem's Model from the HuggingFace Hub, the model has already been pretrained to detect location from text with most models having a whopping score(F1) of 0.97+ This is good enough and we can use it for inference and focus on Post Processing"
   ]
  },
  {
   "cell_type": "markdown",
   "id": "eb154fad",
   "metadata": {
    "papermill": {
     "duration": 0.022928,
     "end_time": "2023-10-23T21:16:45.818806",
     "exception": false,
     "start_time": "2023-10-23T21:16:45.795878",
     "status": "completed"
    },
    "tags": []
   },
   "source": [
    "Use Transformers high level pipeline"
   ]
  },
  {
   "cell_type": "code",
   "execution_count": 14,
   "id": "b8d3b060",
   "metadata": {
    "execution": {
     "iopub.execute_input": "2023-10-23T21:16:45.866324Z",
     "iopub.status.busy": "2023-10-23T21:16:45.865984Z",
     "iopub.status.idle": "2023-10-23T21:17:16.722888Z",
     "shell.execute_reply": "2023-10-23T21:17:16.722065Z"
    },
    "id": "TvGw_o9rtqSf",
    "outputId": "1e2c6c97-7cb1-4db5-9fbc-1ec4bba4f722",
    "papermill": {
     "duration": 30.883415,
     "end_time": "2023-10-23T21:17:16.725146",
     "exception": false,
     "start_time": "2023-10-23T21:16:45.841731",
     "status": "completed"
    },
    "tags": []
   },
   "outputs": [
    {
     "data": {
      "application/vnd.jupyter.widget-view+json": {
       "model_id": "5a5f65bb251940c6b93c6e7990d4003d",
       "version_major": 2,
       "version_minor": 0
      },
      "text/plain": [
       "Downloading (…)lve/main/config.json:   0%|          | 0.00/1.31k [00:00<?, ?B/s]"
      ]
     },
     "metadata": {},
     "output_type": "display_data"
    },
    {
     "data": {
      "application/vnd.jupyter.widget-view+json": {
       "model_id": "b8edd247e5de49438e4fe41ad2eb0c75",
       "version_major": 2,
       "version_minor": 0
      },
      "text/plain": [
       "Downloading pytorch_model.bin:   0%|          | 0.00/1.33G [00:00<?, ?B/s]"
      ]
     },
     "metadata": {},
     "output_type": "display_data"
    },
    {
     "name": "stderr",
     "output_type": "stream",
     "text": [
      "Some weights of the model checkpoint at rsuwaileh/IDRISI-LMR-EN-timebased-typeless were not used when initializing BertForTokenClassification: ['bert.pooler.dense.bias', 'bert.pooler.dense.weight']\n",
      "- This IS expected if you are initializing BertForTokenClassification from the checkpoint of a model trained on another task or with another architecture (e.g. initializing a BertForSequenceClassification model from a BertForPreTraining model).\n",
      "- This IS NOT expected if you are initializing BertForTokenClassification from the checkpoint of a model that you expect to be exactly identical (initializing a BertForSequenceClassification model from a BertForSequenceClassification model).\n"
     ]
    },
    {
     "data": {
      "application/vnd.jupyter.widget-view+json": {
       "model_id": "775716b6f59c4488a5c7145957b00862",
       "version_major": 2,
       "version_minor": 0
      },
      "text/plain": [
       "Downloading (…)okenizer_config.json:   0%|          | 0.00/40.0 [00:00<?, ?B/s]"
      ]
     },
     "metadata": {},
     "output_type": "display_data"
    },
    {
     "data": {
      "application/vnd.jupyter.widget-view+json": {
       "model_id": "8edb55c78855423283318a90412e578c",
       "version_major": 2,
       "version_minor": 0
      },
      "text/plain": [
       "Downloading (…)solve/main/vocab.txt:   0%|          | 0.00/213k [00:00<?, ?B/s]"
      ]
     },
     "metadata": {},
     "output_type": "display_data"
    },
    {
     "data": {
      "application/vnd.jupyter.widget-view+json": {
       "model_id": "2bdc051d7d9245e883b0fc3ba056be24",
       "version_major": 2,
       "version_minor": 0
      },
      "text/plain": [
       "Downloading (…)cial_tokens_map.json:   0%|          | 0.00/112 [00:00<?, ?B/s]"
      ]
     },
     "metadata": {},
     "output_type": "display_data"
    }
   ],
   "source": [
    "# Use a pipeline as a high-level helper\n",
    "from transformers import pipeline\n",
    "\n",
    "pipe = pipeline(\"token-classification\", model=\"rsuwaileh/IDRISI-LMR-EN-timebased-typeless\", device=0)\n",
    "\n",
    "#rsuwaileh/IDRISI-LMR-EN-timebased-typeless\n",
    "#rsuwaileh/IDRISI-LMR-EN-random-typebased"
   ]
  },
  {
   "cell_type": "markdown",
   "id": "bd153e66",
   "metadata": {
    "papermill": {
     "duration": 0.024297,
     "end_time": "2023-10-23T21:17:16.774308",
     "exception": false,
     "start_time": "2023-10-23T21:17:16.750011",
     "status": "completed"
    },
    "tags": []
   },
   "source": [
    "###### Creating Helpers\n",
    "\n",
    "In the subsequent cells we create helper functions that perform very simple tasks but ultimately useful for processing the Predictions from the model"
   ]
  },
  {
   "cell_type": "markdown",
   "id": "1748f3aa",
   "metadata": {
    "papermill": {
     "duration": 0.024085,
     "end_time": "2023-10-23T21:17:16.822653",
     "exception": false,
     "start_time": "2023-10-23T21:17:16.798568",
     "status": "completed"
    },
    "tags": []
   },
   "source": [
    "###### Helper Function 1: Remove Punctuations Except Hyphen.\n",
    "\n",
    "This simple function removes all punctuations from a word except if it's hyphen"
   ]
  },
  {
   "cell_type": "code",
   "execution_count": 15,
   "id": "8092654e",
   "metadata": {
    "execution": {
     "iopub.execute_input": "2023-10-23T21:17:16.873052Z",
     "iopub.status.busy": "2023-10-23T21:17:16.872357Z",
     "iopub.status.idle": "2023-10-23T21:17:16.877891Z",
     "shell.execute_reply": "2023-10-23T21:17:16.877045Z"
    },
    "papermill": {
     "duration": 0.032972,
     "end_time": "2023-10-23T21:17:16.879792",
     "exception": false,
     "start_time": "2023-10-23T21:17:16.846820",
     "status": "completed"
    },
    "tags": []
   },
   "outputs": [],
   "source": [
    "import string\n",
    "\n",
    "def remove_punctuation_except_hyphen(word):\n",
    "    # Define a set of punctuation characters to exclude from removal\n",
    "    allowed_punctuations = set('-')\n",
    "    \n",
    "    # Create a translation table to remove all other punctuations\n",
    "    translator = str.maketrans('', '', string.punctuation)\n",
    "    \n",
    "    # Apply the translation table to the word, but keep the hyphens\n",
    "    cleaned_word = word.translate(translator)\n",
    "    \n",
    "    return cleaned_word"
   ]
  },
  {
   "cell_type": "markdown",
   "id": "321facf4",
   "metadata": {
    "papermill": {
     "duration": 0.024281,
     "end_time": "2023-10-23T21:17:16.928068",
     "exception": false,
     "start_time": "2023-10-23T21:17:16.903787",
     "status": "completed"
    },
    "tags": []
   },
   "source": [
    "###### Helper Function 2: Mentions Destroyer\n",
    "\n",
    "On checking the annotation manual, you'll find that the annotation style used does not count Twitter User mentions in tweets as a location. The Mentions Destroyer simply Destroys it and Replaces the entire Mention with **?**"
   ]
  },
  {
   "attachments": {
    "image.png": {
     "image/png": "[encoded data removed]"
    }
   },
   "cell_type": "markdown",
   "id": "5f032e66",
   "metadata": {
    "papermill": {
     "duration": 0.023981,
     "end_time": "2023-10-23T21:17:16.976603",
     "exception": false,
     "start_time": "2023-10-23T21:17:16.952622",
     "status": "completed"
    },
    "tags": []
   },
   "source": [
    "![image.png](attachment:image.png)"
   ]
  },
  {
   "cell_type": "code",
   "execution_count": 16,
   "id": "5df8d9c4",
   "metadata": {
    "execution": {
     "iopub.execute_input": "2023-10-23T21:17:17.026816Z",
     "iopub.status.busy": "2023-10-23T21:17:17.026125Z",
     "iopub.status.idle": "2023-10-23T21:17:17.031201Z",
     "shell.execute_reply": "2023-10-23T21:17:17.030339Z"
    },
    "papermill": {
     "duration": 0.032439,
     "end_time": "2023-10-23T21:17:17.033130",
     "exception": false,
     "start_time": "2023-10-23T21:17:17.000691",
     "status": "completed"
    },
    "tags": []
   },
   "outputs": [],
   "source": [
    "import re\n",
    "def mentions_destroyer(text):\n",
    "    hashtags = re.findall(r'@\\w+', text)\n",
    "    for hashtag in hashtags:\n",
    "        text = text.replace(hashtag,\"?\"*len(hashtag))\n",
    "    return(text)"
   ]
  },
  {
   "cell_type": "markdown",
   "id": "e25414d5",
   "metadata": {
    "papermill": {
     "duration": 0.024006,
     "end_time": "2023-10-23T21:17:17.081708",
     "exception": false,
     "start_time": "2023-10-23T21:17:17.057702",
     "status": "completed"
    },
    "tags": []
   },
   "source": [
    "###### Helper Function 3: Fix Entity\n",
    "\n",
    "The Fix Entity Function helps to fix preddictions from the model, sometimes model predictions are broken into tokens as the model itself if primarily built for token classification, and hence misses out complete words hence returning wrong Start and End times."
   ]
  },
  {
   "attachments": {
    "image.png": {
     "image/png": "[encoded data removed]"
    }
   },
   "cell_type": "markdown",
   "id": "9537ed13",
   "metadata": {
    "papermill": {
     "duration": 0.023834,
     "end_time": "2023-10-23T21:17:17.129546",
     "exception": false,
     "start_time": "2023-10-23T21:17:17.105712",
     "status": "completed"
    },
    "tags": []
   },
   "source": [
    "![image.png](attachment:image.png)"
   ]
  },
  {
   "cell_type": "code",
   "execution_count": 17,
   "id": "9acff5ac",
   "metadata": {
    "execution": {
     "iopub.execute_input": "2023-10-23T21:17:17.180038Z",
     "iopub.status.busy": "2023-10-23T21:17:17.179236Z",
     "iopub.status.idle": "2023-10-23T21:17:17.186810Z",
     "shell.execute_reply": "2023-10-23T21:17:17.186010Z"
    },
    "papermill": {
     "duration": 0.035141,
     "end_time": "2023-10-23T21:17:17.188830",
     "exception": false,
     "start_time": "2023-10-23T21:17:17.153689",
     "status": "completed"
    },
    "tags": []
   },
   "outputs": [],
   "source": [
    "def fix_entity(entity_list, corresponding_sentence):\n",
    "    fixed_entity = []\n",
    "    for entity in entity_list:\n",
    "        if entity['score']> 0.5:\n",
    "            if len(entity['word']) in [1,2,3,4]:\n",
    "                if entity['word'] in string.punctuation:\n",
    "                    entity['end'] = entity['start']+1\n",
    "                    fixed_entity.append(entity)\n",
    "                else:\n",
    "                    entity['word'] = remove_punctuation_except_hyphen(corresponding_sentence[entity['start']:].split()[0])\n",
    "                    entity['end'] = entity['start']+len(entity['word'])\n",
    "                    fixed_entity.append(entity)\n",
    "            else:\n",
    "                fixed_entity.append(entity)\n",
    "        else:\n",
    "            fixed_entity.append(entity)\n",
    "    return(fixed_entity)"
   ]
  },
  {
   "cell_type": "markdown",
   "id": "11d47e63",
   "metadata": {
    "papermill": {
     "duration": 0.024008,
     "end_time": "2023-10-23T21:17:17.237040",
     "exception": false,
     "start_time": "2023-10-23T21:17:17.213032",
     "status": "completed"
    },
    "tags": []
   },
   "source": [
    "###### Helper Function 4: Post Process Predictions\n",
    "\n",
    "This function helps track how close the values in a list are. Given two lists that contain start and end positions. If the values of an end position is too close to a start position, i.e the minimum threshold is (1) it chops it off and assumes the end value is the next one. See Diagram or read code for clear understanding."
   ]
  },
  {
   "attachments": {
    "image.png": {
     "image/png": "[encoded data removed]"
    }
   },
   "cell_type": "markdown",
   "id": "0fd4ceba",
   "metadata": {
    "papermill": {
     "duration": 0.023932,
     "end_time": "2023-10-23T21:17:17.285024",
     "exception": false,
     "start_time": "2023-10-23T21:17:17.261092",
     "status": "completed"
    },
    "tags": []
   },
   "source": [
    "![image.png](attachment:image.png)"
   ]
  },
  {
   "cell_type": "code",
   "execution_count": 18,
   "id": "751ca05c",
   "metadata": {
    "execution": {
     "iopub.execute_input": "2023-10-23T21:17:17.335165Z",
     "iopub.status.busy": "2023-10-23T21:17:17.334825Z",
     "iopub.status.idle": "2023-10-23T21:17:17.341406Z",
     "shell.execute_reply": "2023-10-23T21:17:17.340505Z"
    },
    "papermill": {
     "duration": 0.034354,
     "end_time": "2023-10-23T21:17:17.343370",
     "exception": false,
     "start_time": "2023-10-23T21:17:17.309016",
     "status": "completed"
    },
    "tags": []
   },
   "outputs": [],
   "source": [
    "def post_process_predictions(token_start_positions, token_end_positions):\n",
    "    corrected_entities = []\n",
    "    current_start = None\n",
    "    current_end = None\n",
    "\n",
    "    for start, end in zip(token_start_positions, token_end_positions):\n",
    "        if current_start is None:\n",
    "            current_start = start\n",
    "            current_end = end\n",
    "        elif start - current_end > 1:\n",
    "            # Detected a gap, so the previous entity ends and a new one starts\n",
    "            corrected_entities.append((current_start, current_end))\n",
    "            current_start = start\n",
    "            current_end = end\n",
    "        else:\n",
    "            current_end = end\n",
    "\n",
    "    # Append the last entity\n",
    "    if current_start is not None:\n",
    "        corrected_entities.append((current_start, current_end))\n",
    "\n",
    "    return corrected_entities"
   ]
  },
  {
   "cell_type": "code",
   "execution_count": 19,
   "id": "9053cf08",
   "metadata": {
    "execution": {
     "iopub.execute_input": "2023-10-23T21:17:17.393505Z",
     "iopub.status.busy": "2023-10-23T21:17:17.393186Z",
     "iopub.status.idle": "2023-10-23T21:17:17.399730Z",
     "shell.execute_reply": "2023-10-23T21:17:17.398801Z"
    },
    "papermill": {
     "duration": 0.033831,
     "end_time": "2023-10-23T21:17:17.401673",
     "exception": false,
     "start_time": "2023-10-23T21:17:17.367842",
     "status": "completed"
    },
    "tags": []
   },
   "outputs": [
    {
     "data": {
      "text/plain": [
       "[(1, 4), (6, 7), (23, 24)]"
      ]
     },
     "execution_count": 19,
     "metadata": {},
     "output_type": "execute_result"
    }
   ],
   "source": [
    "post_process_predictions([1,3,6,23], [2,4,7,24])"
   ]
  },
  {
   "attachments": {
    "image.png": {
     "image/png": "[encoded data removed]"
    }
   },
   "cell_type": "markdown",
   "id": "12363600",
   "metadata": {
    "papermill": {
     "duration": 0.024323,
     "end_time": "2023-10-23T21:17:17.451213",
     "exception": false,
     "start_time": "2023-10-23T21:17:17.426890",
     "status": "completed"
    },
    "tags": []
   },
   "source": [
    "###### Implication of this function on Tweets\n",
    "\n",
    "Although, this function is not directly applied on tweets, the pictorial implication is shown below.\n",
    "\n",
    "![image.png](attachment:image.png)"
   ]
  },
  {
   "cell_type": "markdown",
   "id": "bfa7f09b",
   "metadata": {
    "papermill": {
     "duration": 0.024201,
     "end_time": "2023-10-23T21:17:17.500145",
     "exception": false,
     "start_time": "2023-10-23T21:17:17.475944",
     "status": "completed"
    },
    "tags": []
   },
   "source": [
    "###### Performing Inference\n",
    "\n",
    "This inference function basically combines the use of the 4 functions as outlined above. however there are still some extra tricks employed to smoothen out the labels and help the helper functions achieve better results.\n",
    "\n",
    "* Counting the number of #s in the predicted tokens to stabilize the proposed start location of the word.\n",
    "* The submission style also assumes we have maximum of 17 predictions, we handle all this in the function as well."
   ]
  },
  {
   "cell_type": "code",
   "execution_count": 20,
   "id": "442169b8",
   "metadata": {
    "execution": {
     "iopub.execute_input": "2023-10-23T21:17:17.551402Z",
     "iopub.status.busy": "2023-10-23T21:17:17.551069Z",
     "iopub.status.idle": "2023-10-23T21:17:17.561707Z",
     "shell.execute_reply": "2023-10-23T21:17:17.560850Z"
    },
    "id": "3uGyWFuT5G-J",
    "papermill": {
     "duration": 0.038265,
     "end_time": "2023-10-23T21:17:17.563556",
     "exception": false,
     "start_time": "2023-10-23T21:17:17.525291",
     "status": "completed"
    },
    "tags": []
   },
   "outputs": [],
   "source": [
    "def inference_me(text,text_id):\n",
    "  all_predictions = []\n",
    "  all_ids = []\n",
    "  all_words = []\n",
    "  x = pipe(mentions_destroyer(text))\n",
    "  x = fix_entity(x,text)\n",
    "\n",
    "  starts = []\n",
    "  ends = []\n",
    "  pg = []\n",
    "\n",
    "\n",
    "  preds  = []\n",
    "  for i in range(len(x)):\n",
    "    starts.append(x[i][\"start\"])\n",
    "    ends.append(x[i][\"end\"])\n",
    "    pg.append(x[i][\"word\"].count(\"#\"))\n",
    "  starts = [a - b for a, b in zip(starts, pg)]\n",
    "  preds = post_process_predictions(starts,ends)\n",
    "  for n,i in enumerate(preds[:17]):\n",
    "    all_ids.append(\"ID_\"+str(text_id)+f\"_loc{n+1}\"+\"_start\")\n",
    "    all_predictions.append(i[0])\n",
    "    all_ids.append(\"ID_\"+str(text_id)+f\"_loc{n+1}\"+\"_end\")\n",
    "    all_predictions.append(i[1])\n",
    "    all_words.append(text[i[0]:i[1]])\n",
    "    all_words.append(text[i[0]:i[1]])\n",
    "\n",
    "  if len(preds)<17:\n",
    "    for n in range(len(preds)+1, 18):\n",
    "      all_ids.append(\"ID_\"+str(text_id)+f\"_loc{n}\"+\"_start\")\n",
    "      all_predictions.append(0)\n",
    "      all_ids.append(\"ID_\"+str(text_id)+f\"_loc{n}\"+\"_end\")\n",
    "      all_predictions.append(0)\n",
    "      all_words.append(\"\")\n",
    "      all_words.append(\"\")\n",
    "    \n",
    "  return(all_ids, all_predictions, all_words)"
   ]
  },
  {
   "cell_type": "markdown",
   "id": "ff1f428b",
   "metadata": {
    "papermill": {
     "duration": 0.024196,
     "end_time": "2023-10-23T21:17:17.612116",
     "exception": false,
     "start_time": "2023-10-23T21:17:17.587920",
     "status": "completed"
    },
    "tags": []
   },
   "source": [
    "###### Prepare submission Format"
   ]
  },
  {
   "cell_type": "code",
   "execution_count": 21,
   "id": "08310b54",
   "metadata": {
    "execution": {
     "iopub.execute_input": "2023-10-23T21:17:17.662416Z",
     "iopub.status.busy": "2023-10-23T21:17:17.662078Z",
     "iopub.status.idle": "2023-10-23T21:17:18.011398Z",
     "shell.execute_reply": "2023-10-23T21:17:18.010560Z"
    },
    "id": "9GtVjHDColmC",
    "papermill": {
     "duration": 0.377294,
     "end_time": "2023-10-23T21:17:18.013768",
     "exception": false,
     "start_time": "2023-10-23T21:17:17.636474",
     "status": "completed"
    },
    "tags": []
   },
   "outputs": [],
   "source": [
    "ss[\"loc_number\"] = [int(i.split(\"_\")[2][3:]) for i in ss[\"Tweet_ID\"]]\n",
    "ss[\"start_or_stop\"] = [i.split(\"_\")[3] for i in ss[\"Tweet_ID\"]]\n",
    "ss[\"start_or_stop_num\"] = [0 if i==\"start\" else 1 for i in ss[\"start_or_stop\"]]"
   ]
  },
  {
   "cell_type": "code",
   "execution_count": 22,
   "id": "51a37418",
   "metadata": {
    "execution": {
     "iopub.execute_input": "2023-10-23T21:17:18.065369Z",
     "iopub.status.busy": "2023-10-23T21:17:18.065027Z",
     "iopub.status.idle": "2023-10-23T21:17:18.324390Z",
     "shell.execute_reply": "2023-10-23T21:17:18.323472Z"
    },
    "id": "FAzeZDg_nm0q",
    "outputId": "5fe5da2f-6cb8-4cc8-fafc-e17d6cd776e6",
    "papermill": {
     "duration": 0.287801,
     "end_time": "2023-10-23T21:17:18.326695",
     "exception": false,
     "start_time": "2023-10-23T21:17:18.038894",
     "status": "completed"
    },
    "tags": []
   },
   "outputs": [
    {
     "data": {
      "text/html": [
       "<div>\n",
       "<style scoped>\n",
       "    .dataframe tbody tr th:only-of-type {\n",
       "        vertical-align: middle;\n",
       "    }\n",
       "\n",
       "    .dataframe tbody tr th {\n",
       "        vertical-align: top;\n",
       "    }\n",
       "\n",
       "    .dataframe thead th {\n",
       "        text-align: right;\n",
       "    }\n",
       "</style>\n",
       "<table border=\"1\" class=\"dataframe\">\n",
       "  <thead>\n",
       "    <tr style=\"text-align: right;\">\n",
       "      <th></th>\n",
       "      <th>Tweet_ID</th>\n",
       "      <th>Index</th>\n",
       "      <th>loc_number</th>\n",
       "      <th>start_or_stop</th>\n",
       "      <th>start_or_stop_num</th>\n",
       "      <th>tweet_id</th>\n",
       "    </tr>\n",
       "  </thead>\n",
       "  <tbody>\n",
       "    <tr>\n",
       "      <th>0</th>\n",
       "      <td>ID_721565577505030144_loc1_start</td>\n",
       "      <td>0</td>\n",
       "      <td>1</td>\n",
       "      <td>start</td>\n",
       "      <td>0</td>\n",
       "      <td>721565577505030144</td>\n",
       "    </tr>\n",
       "    <tr>\n",
       "      <th>1</th>\n",
       "      <td>ID_721565577505030144_loc1_end</td>\n",
       "      <td>0</td>\n",
       "      <td>1</td>\n",
       "      <td>end</td>\n",
       "      <td>1</td>\n",
       "      <td>721565577505030144</td>\n",
       "    </tr>\n",
       "    <tr>\n",
       "      <th>2</th>\n",
       "      <td>ID_721565577505030144_loc2_start</td>\n",
       "      <td>0</td>\n",
       "      <td>2</td>\n",
       "      <td>start</td>\n",
       "      <td>0</td>\n",
       "      <td>721565577505030144</td>\n",
       "    </tr>\n",
       "    <tr>\n",
       "      <th>3</th>\n",
       "      <td>ID_721565577505030144_loc2_end</td>\n",
       "      <td>0</td>\n",
       "      <td>2</td>\n",
       "      <td>end</td>\n",
       "      <td>1</td>\n",
       "      <td>721565577505030144</td>\n",
       "    </tr>\n",
       "    <tr>\n",
       "      <th>4</th>\n",
       "      <td>ID_721565577505030144_loc3_start</td>\n",
       "      <td>0</td>\n",
       "      <td>3</td>\n",
       "      <td>start</td>\n",
       "      <td>0</td>\n",
       "      <td>721565577505030144</td>\n",
       "    </tr>\n",
       "    <tr>\n",
       "      <th>...</th>\n",
       "      <td>...</td>\n",
       "      <td>...</td>\n",
       "      <td>...</td>\n",
       "      <td>...</td>\n",
       "      <td>...</td>\n",
       "      <td>...</td>\n",
       "    </tr>\n",
       "    <tr>\n",
       "      <th>138239</th>\n",
       "      <td>ID_1177156754829926400_loc15_end</td>\n",
       "      <td>0</td>\n",
       "      <td>15</td>\n",
       "      <td>end</td>\n",
       "      <td>1</td>\n",
       "      <td>1177156754829926400</td>\n",
       "    </tr>\n",
       "    <tr>\n",
       "      <th>138240</th>\n",
       "      <td>ID_1177156754829926400_loc16_start</td>\n",
       "      <td>0</td>\n",
       "      <td>16</td>\n",
       "      <td>start</td>\n",
       "      <td>0</td>\n",
       "      <td>1177156754829926400</td>\n",
       "    </tr>\n",
       "    <tr>\n",
       "      <th>138241</th>\n",
       "      <td>ID_1177156754829926400_loc16_end</td>\n",
       "      <td>0</td>\n",
       "      <td>16</td>\n",
       "      <td>end</td>\n",
       "      <td>1</td>\n",
       "      <td>1177156754829926400</td>\n",
       "    </tr>\n",
       "    <tr>\n",
       "      <th>138242</th>\n",
       "      <td>ID_1177156754829926400_loc17_start</td>\n",
       "      <td>0</td>\n",
       "      <td>17</td>\n",
       "      <td>start</td>\n",
       "      <td>0</td>\n",
       "      <td>1177156754829926400</td>\n",
       "    </tr>\n",
       "    <tr>\n",
       "      <th>138243</th>\n",
       "      <td>ID_1177156754829926400_loc17_end</td>\n",
       "      <td>0</td>\n",
       "      <td>17</td>\n",
       "      <td>end</td>\n",
       "      <td>1</td>\n",
       "      <td>1177156754829926400</td>\n",
       "    </tr>\n",
       "  </tbody>\n",
       "</table>\n",
       "<p>138244 rows × 6 columns</p>\n",
       "</div>"
      ],
      "text/plain": [
       "                                  Tweet_ID  Index  loc_number start_or_stop  \\\n",
       "0         ID_721565577505030144_loc1_start      0           1         start   \n",
       "1           ID_721565577505030144_loc1_end      0           1           end   \n",
       "2         ID_721565577505030144_loc2_start      0           2         start   \n",
       "3           ID_721565577505030144_loc2_end      0           2           end   \n",
       "4         ID_721565577505030144_loc3_start      0           3         start   \n",
       "...                                    ...    ...         ...           ...   \n",
       "138239    ID_1177156754829926400_loc15_end      0          15           end   \n",
       "138240  ID_1177156754829926400_loc16_start      0          16         start   \n",
       "138241    ID_1177156754829926400_loc16_end      0          16           end   \n",
       "138242  ID_1177156754829926400_loc17_start      0          17         start   \n",
       "138243    ID_1177156754829926400_loc17_end      0          17           end   \n",
       "\n",
       "        start_or_stop_num             tweet_id  \n",
       "0                       0   721565577505030144  \n",
       "1                       1   721565577505030144  \n",
       "2                       0   721565577505030144  \n",
       "3                       1   721565577505030144  \n",
       "4                       0   721565577505030144  \n",
       "...                   ...                  ...  \n",
       "138239                  1  1177156754829926400  \n",
       "138240                  0  1177156754829926400  \n",
       "138241                  1  1177156754829926400  \n",
       "138242                  0  1177156754829926400  \n",
       "138243                  1  1177156754829926400  \n",
       "\n",
       "[138244 rows x 6 columns]"
      ]
     },
     "execution_count": 22,
     "metadata": {},
     "output_type": "execute_result"
    }
   ],
   "source": [
    "ss[\"tweet_id\"] = [int(i.split(\"_\")[1]) for i in ss.Tweet_ID]\n",
    "ss = ss.sort_values(by=['tweet_id',\"loc_number\", \"start_or_stop_num\"]).reset_index(drop=True)\n",
    "ss"
   ]
  },
  {
   "cell_type": "code",
   "execution_count": 23,
   "id": "80382651",
   "metadata": {
    "execution": {
     "iopub.execute_input": "2023-10-23T21:17:18.379189Z",
     "iopub.status.busy": "2023-10-23T21:17:18.378478Z",
     "iopub.status.idle": "2023-10-23T21:17:18.390434Z",
     "shell.execute_reply": "2023-10-23T21:17:18.389525Z"
    },
    "id": "EnsfoGpVn1KT",
    "outputId": "322b3ef4-e6ff-4201-f8a5-4e5a5cd3bca7",
    "papermill": {
     "duration": 0.039673,
     "end_time": "2023-10-23T21:17:18.392277",
     "exception": false,
     "start_time": "2023-10-23T21:17:18.352604",
     "status": "completed"
    },
    "tags": []
   },
   "outputs": [
    {
     "data": {
      "text/html": [
       "<div>\n",
       "<style scoped>\n",
       "    .dataframe tbody tr th:only-of-type {\n",
       "        vertical-align: middle;\n",
       "    }\n",
       "\n",
       "    .dataframe tbody tr th {\n",
       "        vertical-align: top;\n",
       "    }\n",
       "\n",
       "    .dataframe thead th {\n",
       "        text-align: right;\n",
       "    }\n",
       "</style>\n",
       "<table border=\"1\" class=\"dataframe\">\n",
       "  <thead>\n",
       "    <tr style=\"text-align: right;\">\n",
       "      <th></th>\n",
       "      <th>tweet_id</th>\n",
       "      <th>text</th>\n",
       "    </tr>\n",
       "  </thead>\n",
       "  <tbody>\n",
       "    <tr>\n",
       "      <th>0</th>\n",
       "      <td>721565577505030144</td>\n",
       "      <td>RT @YourAnonCentral: Since #Ecuador earthquake...</td>\n",
       "    </tr>\n",
       "    <tr>\n",
       "      <th>1</th>\n",
       "      <td>721565833814786048</td>\n",
       "      <td>RT @AP: Im in a state of panic. -Quito residen...</td>\n",
       "    </tr>\n",
       "    <tr>\n",
       "      <th>2</th>\n",
       "      <td>721567194199379968</td>\n",
       "      <td>7.8 earthquake in Ecuador: Tsunami warning iss...</td>\n",
       "    </tr>\n",
       "    <tr>\n",
       "      <th>3</th>\n",
       "      <td>721575488234340352</td>\n",
       "      <td>RT @NewEarthquake: 7.4 earthquake, 14km NNW of...</td>\n",
       "    </tr>\n",
       "    <tr>\n",
       "      <th>4</th>\n",
       "      <td>721580577590104064</td>\n",
       "      <td>Powerful earthquake hits Ecuador; at least 41 ...</td>\n",
       "    </tr>\n",
       "    <tr>\n",
       "      <th>...</th>\n",
       "      <td>...</td>\n",
       "      <td>...</td>\n",
       "    </tr>\n",
       "    <tr>\n",
       "      <th>4061</th>\n",
       "      <td>1177137369562193920</td>\n",
       "      <td>Today a Free-Medical Camp was organized by Pak...</td>\n",
       "    </tr>\n",
       "    <tr>\n",
       "      <th>4062</th>\n",
       "      <td>1177141832431652864</td>\n",
       "      <td>Four people have died after a strong #earthqua...</td>\n",
       "    </tr>\n",
       "    <tr>\n",
       "      <th>4063</th>\n",
       "      <td>1177146978431422464</td>\n",
       "      <td>Five killed, others injured in Iran train acci...</td>\n",
       "    </tr>\n",
       "    <tr>\n",
       "      <th>4064</th>\n",
       "      <td>1177153282323755008</td>\n",
       "      <td>Families have lost their homes and everything ...</td>\n",
       "    </tr>\n",
       "    <tr>\n",
       "      <th>4065</th>\n",
       "      <td>1177156754829926400</td>\n",
       "      <td>NDMA distributes rations, water bottles and te...</td>\n",
       "    </tr>\n",
       "  </tbody>\n",
       "</table>\n",
       "<p>4066 rows × 2 columns</p>\n",
       "</div>"
      ],
      "text/plain": [
       "                 tweet_id                                               text\n",
       "0      721565577505030144  RT @YourAnonCentral: Since #Ecuador earthquake...\n",
       "1      721565833814786048  RT @AP: Im in a state of panic. -Quito residen...\n",
       "2      721567194199379968  7.8 earthquake in Ecuador: Tsunami warning iss...\n",
       "3      721575488234340352  RT @NewEarthquake: 7.4 earthquake, 14km NNW of...\n",
       "4      721580577590104064  Powerful earthquake hits Ecuador; at least 41 ...\n",
       "...                   ...                                                ...\n",
       "4061  1177137369562193920  Today a Free-Medical Camp was organized by Pak...\n",
       "4062  1177141832431652864  Four people have died after a strong #earthqua...\n",
       "4063  1177146978431422464  Five killed, others injured in Iran train acci...\n",
       "4064  1177153282323755008  Families have lost their homes and everything ...\n",
       "4065  1177156754829926400  NDMA distributes rations, water bottles and te...\n",
       "\n",
       "[4066 rows x 2 columns]"
      ]
     },
     "execution_count": 23,
     "metadata": {},
     "output_type": "execute_result"
    }
   ],
   "source": [
    "test_df = test_df.sort_values(by='tweet_id').reset_index(drop=True)\n",
    "test_df"
   ]
  },
  {
   "cell_type": "markdown",
   "id": "c8496f51",
   "metadata": {
    "papermill": {
     "duration": 0.024787,
     "end_time": "2023-10-23T21:17:18.443740",
     "exception": false,
     "start_time": "2023-10-23T21:17:18.418953",
     "status": "completed"
    },
    "tags": []
   },
   "source": [
    "###### Do inteference on the test set"
   ]
  },
  {
   "cell_type": "code",
   "execution_count": 24,
   "id": "2eaa0de7",
   "metadata": {
    "execution": {
     "iopub.execute_input": "2023-10-23T21:17:18.495862Z",
     "iopub.status.busy": "2023-10-23T21:17:18.495026Z",
     "iopub.status.idle": "2023-10-23T21:18:46.276578Z",
     "shell.execute_reply": "2023-10-23T21:18:46.275567Z"
    },
    "id": "QFLAGrx-HvpV",
    "outputId": "94843d37-34d1-441d-9bc9-2e071ee359fb",
    "papermill": {
     "duration": 87.810289,
     "end_time": "2023-10-23T21:18:46.278922",
     "exception": false,
     "start_time": "2023-10-23T21:17:18.468633",
     "status": "completed"
    },
    "tags": []
   },
   "outputs": [
    {
     "name": "stdout",
     "output_type": "stream",
     "text": [
      "500\n",
      "1000\n",
      "1500\n",
      "2000\n",
      "2500\n",
      "3000\n",
      "3500\n",
      "4000\n"
     ]
    }
   ],
   "source": [
    "final_ids = []\n",
    "final_preds = []\n",
    "final_words = []\n",
    "n=0\n",
    "\n",
    "for i in zip(test_df.tweet_id, test_df.text):\n",
    "  n = n+1\n",
    "  text_id,text = i\n",
    "  id_set, pred_set, words_set = inference_me(text,text_id)\n",
    "  final_ids = final_ids+id_set\n",
    "  final_preds = final_preds+ pred_set\n",
    "  final_words = final_words + words_set\n",
    "  if n%500 == 0:\n",
    "    print(n)"
   ]
  },
  {
   "cell_type": "code",
   "execution_count": 25,
   "id": "344d68c2",
   "metadata": {
    "execution": {
     "iopub.execute_input": "2023-10-23T21:18:46.343579Z",
     "iopub.status.busy": "2023-10-23T21:18:46.342871Z",
     "iopub.status.idle": "2023-10-23T21:18:46.421729Z",
     "shell.execute_reply": "2023-10-23T21:18:46.420789Z"
    },
    "papermill": {
     "duration": 0.114768,
     "end_time": "2023-10-23T21:18:46.423822",
     "exception": false,
     "start_time": "2023-10-23T21:18:46.309054",
     "status": "completed"
    },
    "tags": []
   },
   "outputs": [
    {
     "data": {
      "text/html": [
       "<div>\n",
       "<style scoped>\n",
       "    .dataframe tbody tr th:only-of-type {\n",
       "        vertical-align: middle;\n",
       "    }\n",
       "\n",
       "    .dataframe tbody tr th {\n",
       "        vertical-align: top;\n",
       "    }\n",
       "\n",
       "    .dataframe thead th {\n",
       "        text-align: right;\n",
       "    }\n",
       "</style>\n",
       "<table border=\"1\" class=\"dataframe\">\n",
       "  <thead>\n",
       "    <tr style=\"text-align: right;\">\n",
       "      <th></th>\n",
       "      <th>Tweet_ID</th>\n",
       "      <th>Index</th>\n",
       "    </tr>\n",
       "  </thead>\n",
       "  <tbody>\n",
       "    <tr>\n",
       "      <th>0</th>\n",
       "      <td>ID_721565577505030144_loc1_start</td>\n",
       "      <td>28</td>\n",
       "    </tr>\n",
       "    <tr>\n",
       "      <th>1</th>\n",
       "      <td>ID_721565577505030144_loc1_end</td>\n",
       "      <td>35</td>\n",
       "    </tr>\n",
       "    <tr>\n",
       "      <th>2</th>\n",
       "      <td>ID_721565577505030144_loc2_start</td>\n",
       "      <td>0</td>\n",
       "    </tr>\n",
       "    <tr>\n",
       "      <th>3</th>\n",
       "      <td>ID_721565577505030144_loc2_end</td>\n",
       "      <td>0</td>\n",
       "    </tr>\n",
       "    <tr>\n",
       "      <th>4</th>\n",
       "      <td>ID_721565577505030144_loc3_start</td>\n",
       "      <td>0</td>\n",
       "    </tr>\n",
       "    <tr>\n",
       "      <th>...</th>\n",
       "      <td>...</td>\n",
       "      <td>...</td>\n",
       "    </tr>\n",
       "    <tr>\n",
       "      <th>138239</th>\n",
       "      <td>ID_1177156754829926400_loc15_end</td>\n",
       "      <td>0</td>\n",
       "    </tr>\n",
       "    <tr>\n",
       "      <th>138240</th>\n",
       "      <td>ID_1177156754829926400_loc16_start</td>\n",
       "      <td>0</td>\n",
       "    </tr>\n",
       "    <tr>\n",
       "      <th>138241</th>\n",
       "      <td>ID_1177156754829926400_loc16_end</td>\n",
       "      <td>0</td>\n",
       "    </tr>\n",
       "    <tr>\n",
       "      <th>138242</th>\n",
       "      <td>ID_1177156754829926400_loc17_start</td>\n",
       "      <td>0</td>\n",
       "    </tr>\n",
       "    <tr>\n",
       "      <th>138243</th>\n",
       "      <td>ID_1177156754829926400_loc17_end</td>\n",
       "      <td>0</td>\n",
       "    </tr>\n",
       "  </tbody>\n",
       "</table>\n",
       "<p>138244 rows × 2 columns</p>\n",
       "</div>"
      ],
      "text/plain": [
       "                                  Tweet_ID  Index\n",
       "0         ID_721565577505030144_loc1_start     28\n",
       "1           ID_721565577505030144_loc1_end     35\n",
       "2         ID_721565577505030144_loc2_start      0\n",
       "3           ID_721565577505030144_loc2_end      0\n",
       "4         ID_721565577505030144_loc3_start      0\n",
       "...                                    ...    ...\n",
       "138239    ID_1177156754829926400_loc15_end      0\n",
       "138240  ID_1177156754829926400_loc16_start      0\n",
       "138241    ID_1177156754829926400_loc16_end      0\n",
       "138242  ID_1177156754829926400_loc17_start      0\n",
       "138243    ID_1177156754829926400_loc17_end      0\n",
       "\n",
       "[138244 rows x 2 columns]"
      ]
     },
     "execution_count": 25,
     "metadata": {},
     "output_type": "execute_result"
    }
   ],
   "source": [
    "sub = pd.DataFrame()\n",
    "sub[\"Tweet_ID\"] = ss.Tweet_ID\n",
    "sub[\"Index\"] = final_preds\n",
    "#sub[\"Words\"] = final_words\n",
    "sub"
   ]
  },
  {
   "cell_type": "code",
   "execution_count": 26,
   "id": "e401ec61",
   "metadata": {
    "execution": {
     "iopub.execute_input": "2023-10-23T21:18:46.476314Z",
     "iopub.status.busy": "2023-10-23T21:18:46.476024Z",
     "iopub.status.idle": "2023-10-23T21:18:46.482396Z",
     "shell.execute_reply": "2023-10-23T21:18:46.481652Z"
    },
    "id": "rah9y67OSPgK",
    "papermill": {
     "duration": 0.034628,
     "end_time": "2023-10-23T21:18:46.484304",
     "exception": false,
     "start_time": "2023-10-23T21:18:46.449676",
     "status": "completed"
    },
    "tags": []
   },
   "outputs": [],
   "source": [
    "sub = sub.reset_index(drop=True)"
   ]
  },
  {
   "cell_type": "code",
   "execution_count": 27,
   "id": "bf75530b",
   "metadata": {
    "execution": {
     "iopub.execute_input": "2023-10-23T21:18:46.537419Z",
     "iopub.status.busy": "2023-10-23T21:18:46.536750Z",
     "iopub.status.idle": "2023-10-23T21:18:46.592372Z",
     "shell.execute_reply": "2023-10-23T21:18:46.591442Z"
    },
    "id": "gXahJfcrUNJz",
    "outputId": "e87b7ea1-9aa9-403a-fe74-96472d3ed652",
    "papermill": {
     "duration": 0.084625,
     "end_time": "2023-10-23T21:18:46.594436",
     "exception": false,
     "start_time": "2023-10-23T21:18:46.509811",
     "status": "completed"
    },
    "tags": []
   },
   "outputs": [
    {
     "data": {
      "text/plain": [
       "119136"
      ]
     },
     "execution_count": 27,
     "metadata": {},
     "output_type": "execute_result"
    }
   ],
   "source": [
    "sub.Tweet_ID.nunique()"
   ]
  },
  {
   "cell_type": "code",
   "execution_count": 28,
   "id": "360fdca0",
   "metadata": {
    "execution": {
     "iopub.execute_input": "2023-10-23T21:18:46.649330Z",
     "iopub.status.busy": "2023-10-23T21:18:46.648512Z",
     "iopub.status.idle": "2023-10-23T21:18:47.075581Z",
     "shell.execute_reply": "2023-10-23T21:18:47.074587Z"
    },
    "id": "8_P-Hg2OBbqg",
    "outputId": "0e753bd4-658b-4499-9a22-e7edeaa7cc34",
    "papermill": {
     "duration": 0.456989,
     "end_time": "2023-10-23T21:18:47.078002",
     "exception": false,
     "start_time": "2023-10-23T21:18:46.621013",
     "status": "completed"
    },
    "tags": []
   },
   "outputs": [],
   "source": [
    "name = \"model1.csv\"\n",
    "sub.to_csv(name, index=False)"
   ]
  },
  {
   "cell_type": "markdown",
   "id": "8a00e9c1",
   "metadata": {
    "papermill": {
     "duration": 0.026153,
     "end_time": "2023-10-23T21:18:47.130510",
     "exception": false,
     "start_time": "2023-10-23T21:18:47.104357",
     "status": "completed"
    },
    "tags": []
   },
   "source": [
    "### Local Validation - Extras\n",
    "\n",
    "These code cells below allows you to do local validation of the post processing strategies instead of validating with the Leaderboard"
   ]
  },
  {
   "cell_type": "code",
   "execution_count": 29,
   "id": "6eb4da3f",
   "metadata": {
    "execution": {
     "iopub.execute_input": "2023-10-23T21:18:47.184348Z",
     "iopub.status.busy": "2023-10-23T21:18:47.183532Z",
     "iopub.status.idle": "2023-10-23T21:18:47.209216Z",
     "shell.execute_reply": "2023-10-23T21:18:47.208268Z"
    },
    "id": "xBzVvt7RsOO0",
    "papermill": {
     "duration": 0.054883,
     "end_time": "2023-10-23T21:18:47.211196",
     "exception": false,
     "start_time": "2023-10-23T21:18:47.156313",
     "status": "completed"
    },
    "tags": []
   },
   "outputs": [
    {
     "data": {
      "text/html": [
       "<div>\n",
       "<style scoped>\n",
       "    .dataframe tbody tr th:only-of-type {\n",
       "        vertical-align: middle;\n",
       "    }\n",
       "\n",
       "    .dataframe tbody tr th {\n",
       "        vertical-align: top;\n",
       "    }\n",
       "\n",
       "    .dataframe thead th {\n",
       "        text-align: right;\n",
       "    }\n",
       "</style>\n",
       "<table border=\"1\" class=\"dataframe\">\n",
       "  <thead>\n",
       "    <tr style=\"text-align: right;\">\n",
       "      <th></th>\n",
       "      <th>tweet_id</th>\n",
       "      <th>text</th>\n",
       "      <th>location_mentions</th>\n",
       "    </tr>\n",
       "  </thead>\n",
       "  <tbody>\n",
       "    <tr>\n",
       "      <th>0</th>\n",
       "      <td>783610962645553152</td>\n",
       "      <td>TOP STORY: South Carolina begins evacuation of...</td>\n",
       "      <td>[{'text': 'South Carolina', 'type': 'State', '...</td>\n",
       "    </tr>\n",
       "    <tr>\n",
       "      <th>1</th>\n",
       "      <td>783803775702011904</td>\n",
       "      <td>RatedBama just posted Haiti Costal Town Destro...</td>\n",
       "      <td>[{'text': 'Haiti', 'type': 'Country', 'start_o...</td>\n",
       "    </tr>\n",
       "    <tr>\n",
       "      <th>2</th>\n",
       "      <td>783873541871693824</td>\n",
       "      <td>#TheCoeReport: At Least 4 Killed As Hurricane ...</td>\n",
       "      <td>[{'text': 'Haiti', 'type': 'Island', 'start_of...</td>\n",
       "    </tr>\n",
       "    <tr>\n",
       "      <th>3</th>\n",
       "      <td>784649193872842752</td>\n",
       "      <td>RT @eNCA: eNCA | UPDATE: Hurricane Matthew kil...</td>\n",
       "      <td>[{'text': 'Haiti', 'type': 'Country', 'start_o...</td>\n",
       "    </tr>\n",
       "    <tr>\n",
       "      <th>4</th>\n",
       "      <td>783750547564355584</td>\n",
       "      <td>Hurricane Matthew Leaves Catastrophic Devastat...</td>\n",
       "      <td>[{'text': 'Haiti', 'type': 'Country', 'start_o...</td>\n",
       "    </tr>\n",
       "    <tr>\n",
       "      <th>...</th>\n",
       "      <td>...</td>\n",
       "      <td>...</td>\n",
       "      <td>...</td>\n",
       "    </tr>\n",
       "    <tr>\n",
       "      <th>2051</th>\n",
       "      <td>903374296428535808</td>\n",
       "      <td>.@uiltexas announces waiver process for studen...</td>\n",
       "      <td>[]</td>\n",
       "    </tr>\n",
       "    <tr>\n",
       "      <th>2052</th>\n",
       "      <td>902724913865379840</td>\n",
       "      <td>@JoelOsteen help our cause please #HopeForHous...</td>\n",
       "      <td>[]</td>\n",
       "    </tr>\n",
       "    <tr>\n",
       "      <th>2053</th>\n",
       "      <td>902917702494420992</td>\n",
       "      <td>Dangerous flooding! Friend posted this pic of ...</td>\n",
       "      <td>[{'text': 'Beaumont', 'type': 'City/town', 'st...</td>\n",
       "    </tr>\n",
       "    <tr>\n",
       "      <th>2054</th>\n",
       "      <td>902653388365680640</td>\n",
       "      <td>Remember to text HARVEY to 90999 to donate $10...</td>\n",
       "      <td>[]</td>\n",
       "    </tr>\n",
       "    <tr>\n",
       "      <th>2055</th>\n",
       "      <td>902750773817331712</td>\n",
       "      <td>#harvey At least 20 people have died in storm-...</td>\n",
       "      <td>[{'text': 'Texas', 'type': 'State', 'start_off...</td>\n",
       "    </tr>\n",
       "  </tbody>\n",
       "</table>\n",
       "<p>2056 rows × 3 columns</p>\n",
       "</div>"
      ],
      "text/plain": [
       "                tweet_id                                               text  \\\n",
       "0     783610962645553152  TOP STORY: South Carolina begins evacuation of...   \n",
       "1     783803775702011904  RatedBama just posted Haiti Costal Town Destro...   \n",
       "2     783873541871693824  #TheCoeReport: At Least 4 Killed As Hurricane ...   \n",
       "3     784649193872842752  RT @eNCA: eNCA | UPDATE: Hurricane Matthew kil...   \n",
       "4     783750547564355584  Hurricane Matthew Leaves Catastrophic Devastat...   \n",
       "...                  ...                                                ...   \n",
       "2051  903374296428535808  .@uiltexas announces waiver process for studen...   \n",
       "2052  902724913865379840  @JoelOsteen help our cause please #HopeForHous...   \n",
       "2053  902917702494420992  Dangerous flooding! Friend posted this pic of ...   \n",
       "2054  902653388365680640  Remember to text HARVEY to 90999 to donate $10...   \n",
       "2055  902750773817331712  #harvey At least 20 people have died in storm-...   \n",
       "\n",
       "                                      location_mentions  \n",
       "0     [{'text': 'South Carolina', 'type': 'State', '...  \n",
       "1     [{'text': 'Haiti', 'type': 'Country', 'start_o...  \n",
       "2     [{'text': 'Haiti', 'type': 'Island', 'start_of...  \n",
       "3     [{'text': 'Haiti', 'type': 'Country', 'start_o...  \n",
       "4     [{'text': 'Haiti', 'type': 'Country', 'start_o...  \n",
       "...                                                 ...  \n",
       "2051                                                 []  \n",
       "2052                                                 []  \n",
       "2053  [{'text': 'Beaumont', 'type': 'City/town', 'st...  \n",
       "2054                                                 []  \n",
       "2055  [{'text': 'Texas', 'type': 'State', 'start_off...  \n",
       "\n",
       "[2056 rows x 3 columns]"
      ]
     },
     "execution_count": 29,
     "metadata": {},
     "output_type": "execute_result"
    }
   ],
   "source": [
    "valid_df"
   ]
  },
  {
   "cell_type": "code",
   "execution_count": 30,
   "id": "b6841edb",
   "metadata": {
    "execution": {
     "iopub.execute_input": "2023-10-23T21:18:47.264633Z",
     "iopub.status.busy": "2023-10-23T21:18:47.264306Z",
     "iopub.status.idle": "2023-10-23T21:19:28.879060Z",
     "shell.execute_reply": "2023-10-23T21:19:28.878228Z"
    },
    "papermill": {
     "duration": 41.643854,
     "end_time": "2023-10-23T21:19:28.881353",
     "exception": false,
     "start_time": "2023-10-23T21:18:47.237499",
     "status": "completed"
    },
    "tags": []
   },
   "outputs": [
    {
     "name": "stdout",
     "output_type": "stream",
     "text": [
      "500\n",
      "1000\n",
      "1500\n",
      "2000\n"
     ]
    }
   ],
   "source": [
    "final_ids = []\n",
    "final_preds = []\n",
    "final_words = []\n",
    "n=0\n",
    "\n",
    "for i in zip(valid_df.tweet_id, valid_df.text):\n",
    "  n = n+1\n",
    "  text_id,text = i\n",
    "  id_set, pred_set, words_set = inference_me(text,text_id)\n",
    "  final_ids = final_ids+id_set\n",
    "  final_preds = final_preds+ pred_set\n",
    "  final_words = final_words + words_set\n",
    "  if n%500 == 0:\n",
    "    print(n)"
   ]
  },
  {
   "cell_type": "code",
   "execution_count": 31,
   "id": "0d8e39a3",
   "metadata": {
    "execution": {
     "iopub.execute_input": "2023-10-23T21:19:28.936795Z",
     "iopub.status.busy": "2023-10-23T21:19:28.935855Z",
     "iopub.status.idle": "2023-10-23T21:19:28.987666Z",
     "shell.execute_reply": "2023-10-23T21:19:28.986767Z"
    },
    "papermill": {
     "duration": 0.08111,
     "end_time": "2023-10-23T21:19:28.989683",
     "exception": false,
     "start_time": "2023-10-23T21:19:28.908573",
     "status": "completed"
    },
    "tags": []
   },
   "outputs": [
    {
     "data": {
      "text/html": [
       "<div>\n",
       "<style scoped>\n",
       "    .dataframe tbody tr th:only-of-type {\n",
       "        vertical-align: middle;\n",
       "    }\n",
       "\n",
       "    .dataframe tbody tr th {\n",
       "        vertical-align: top;\n",
       "    }\n",
       "\n",
       "    .dataframe thead th {\n",
       "        text-align: right;\n",
       "    }\n",
       "</style>\n",
       "<table border=\"1\" class=\"dataframe\">\n",
       "  <thead>\n",
       "    <tr style=\"text-align: right;\">\n",
       "      <th></th>\n",
       "      <th>Tweet_ID</th>\n",
       "      <th>Index</th>\n",
       "    </tr>\n",
       "  </thead>\n",
       "  <tbody>\n",
       "    <tr>\n",
       "      <th>0</th>\n",
       "      <td>ID_783610962645553152_loc1_start</td>\n",
       "      <td>11</td>\n",
       "    </tr>\n",
       "    <tr>\n",
       "      <th>1</th>\n",
       "      <td>ID_783610962645553152_loc1_end</td>\n",
       "      <td>25</td>\n",
       "    </tr>\n",
       "    <tr>\n",
       "      <th>2</th>\n",
       "      <td>ID_783610962645553152_loc2_start</td>\n",
       "      <td>99</td>\n",
       "    </tr>\n",
       "    <tr>\n",
       "      <th>3</th>\n",
       "      <td>ID_783610962645553152_loc2_end</td>\n",
       "      <td>104</td>\n",
       "    </tr>\n",
       "    <tr>\n",
       "      <th>4</th>\n",
       "      <td>ID_783610962645553152_loc3_start</td>\n",
       "      <td>107</td>\n",
       "    </tr>\n",
       "    <tr>\n",
       "      <th>...</th>\n",
       "      <td>...</td>\n",
       "      <td>...</td>\n",
       "    </tr>\n",
       "    <tr>\n",
       "      <th>69899</th>\n",
       "      <td>ID_902750773817331712_loc15_end</td>\n",
       "      <td>0</td>\n",
       "    </tr>\n",
       "    <tr>\n",
       "      <th>69900</th>\n",
       "      <td>ID_902750773817331712_loc16_start</td>\n",
       "      <td>0</td>\n",
       "    </tr>\n",
       "    <tr>\n",
       "      <th>69901</th>\n",
       "      <td>ID_902750773817331712_loc16_end</td>\n",
       "      <td>0</td>\n",
       "    </tr>\n",
       "    <tr>\n",
       "      <th>69902</th>\n",
       "      <td>ID_902750773817331712_loc17_start</td>\n",
       "      <td>0</td>\n",
       "    </tr>\n",
       "    <tr>\n",
       "      <th>69903</th>\n",
       "      <td>ID_902750773817331712_loc17_end</td>\n",
       "      <td>0</td>\n",
       "    </tr>\n",
       "  </tbody>\n",
       "</table>\n",
       "<p>69904 rows × 2 columns</p>\n",
       "</div>"
      ],
      "text/plain": [
       "                                Tweet_ID  Index\n",
       "0       ID_783610962645553152_loc1_start     11\n",
       "1         ID_783610962645553152_loc1_end     25\n",
       "2       ID_783610962645553152_loc2_start     99\n",
       "3         ID_783610962645553152_loc2_end    104\n",
       "4       ID_783610962645553152_loc3_start    107\n",
       "...                                  ...    ...\n",
       "69899    ID_902750773817331712_loc15_end      0\n",
       "69900  ID_902750773817331712_loc16_start      0\n",
       "69901    ID_902750773817331712_loc16_end      0\n",
       "69902  ID_902750773817331712_loc17_start      0\n",
       "69903    ID_902750773817331712_loc17_end      0\n",
       "\n",
       "[69904 rows x 2 columns]"
      ]
     },
     "execution_count": 31,
     "metadata": {},
     "output_type": "execute_result"
    }
   ],
   "source": [
    "valxx = pd.DataFrame()\n",
    "valxx[\"Tweet_ID\"] = final_ids\n",
    "valxx[\"Index\"] = final_preds\n",
    "#sub[\"Words\"] = final_words\n",
    "valxx"
   ]
  },
  {
   "cell_type": "code",
   "execution_count": 32,
   "id": "b62bc0a2",
   "metadata": {
    "execution": {
     "iopub.execute_input": "2023-10-23T21:19:29.045816Z",
     "iopub.status.busy": "2023-10-23T21:19:29.045490Z",
     "iopub.status.idle": "2023-10-23T21:19:29.055092Z",
     "shell.execute_reply": "2023-10-23T21:19:29.054259Z"
    },
    "papermill": {
     "duration": 0.039258,
     "end_time": "2023-10-23T21:19:29.056998",
     "exception": false,
     "start_time": "2023-10-23T21:19:29.017740",
     "status": "completed"
    },
    "tags": []
   },
   "outputs": [],
   "source": [
    "def validate(x, text):\n",
    "  all_predictions = []\n",
    "  all_ids = []\n",
    "  all_words = []\n",
    "  starts = []\n",
    "  ends = []\n",
    "  pg = []\n",
    "\n",
    "  preds  = []\n",
    "  for i in range(len(x)):\n",
    "    starts.append(x[i][\"start_offset\"])\n",
    "    ends.append(x[i][\"end_offset\"])\n",
    "    pg.append(x[i][\"text\"].count(\"#\"))\n",
    "  preds = [(a,b) for a,b in zip(starts,ends)]\n",
    "  for n,i in enumerate(preds):\n",
    "    all_ids.append(\"ID_\"+str(text_id)+f\"_loc{n+1}\"+\"_start\")\n",
    "    all_predictions.append(i[0])\n",
    "    all_ids.append(\"ID_\"+str(text_id)+f\"_loc{n+1}\"+\"_end\")\n",
    "    all_predictions.append(i[1])\n",
    "    all_words.append(text[i[0]:i[1]])\n",
    "    all_words.append(text[i[0]:i[1]])\n",
    "\n",
    "  if len(preds)<17:\n",
    "    for n in range(len(preds)+1, 18):\n",
    "      all_ids.append(\"ID_\"+str(text_id)+f\"_loc{n}\"+\"_start\")\n",
    "      all_predictions.append(0)\n",
    "      all_ids.append(\"ID_\"+str(text_id)+f\"_loc{n}\"+\"_end\")\n",
    "      all_predictions.append(0)\n",
    "      all_words.append(\"\")\n",
    "      all_words.append(\"\")\n",
    "  return(all_ids, all_predictions, all_words)"
   ]
  },
  {
   "cell_type": "code",
   "execution_count": 33,
   "id": "49ba9bf4",
   "metadata": {
    "execution": {
     "iopub.execute_input": "2023-10-23T21:19:29.111069Z",
     "iopub.status.busy": "2023-10-23T21:19:29.110776Z",
     "iopub.status.idle": "2023-10-23T21:19:30.458231Z",
     "shell.execute_reply": "2023-10-23T21:19:30.457035Z"
    },
    "papermill": {
     "duration": 1.376885,
     "end_time": "2023-10-23T21:19:30.460413",
     "exception": false,
     "start_time": "2023-10-23T21:19:29.083528",
     "status": "completed"
    },
    "tags": []
   },
   "outputs": [
    {
     "name": "stdout",
     "output_type": "stream",
     "text": [
      "500\n",
      "1000\n",
      "1500\n",
      "2000\n"
     ]
    }
   ],
   "source": [
    "final_ids = []\n",
    "final_preds = []\n",
    "final_words = []\n",
    "n=0\n",
    "\n",
    "for i in zip(valid_df.location_mentions, valid_df.text):\n",
    "  n = n+1\n",
    "  loc_men,text = i\n",
    "  id_set, pred_set, words_set = validate(loc_men, text)\n",
    "  final_ids = final_ids+id_set\n",
    "  final_preds = final_preds+ pred_set\n",
    "  final_words = final_words + words_set\n",
    "  if n%500 == 0:\n",
    "    print(n)"
   ]
  },
  {
   "cell_type": "code",
   "execution_count": 34,
   "id": "96412b42",
   "metadata": {
    "execution": {
     "iopub.execute_input": "2023-10-23T21:19:30.516082Z",
     "iopub.status.busy": "2023-10-23T21:19:30.515755Z",
     "iopub.status.idle": "2023-10-23T21:19:30.526206Z",
     "shell.execute_reply": "2023-10-23T21:19:30.525375Z"
    },
    "papermill": {
     "duration": 0.040307,
     "end_time": "2023-10-23T21:19:30.528216",
     "exception": false,
     "start_time": "2023-10-23T21:19:30.487909",
     "status": "completed"
    },
    "tags": []
   },
   "outputs": [
    {
     "data": {
      "text/html": [
       "<div>\n",
       "<style scoped>\n",
       "    .dataframe tbody tr th:only-of-type {\n",
       "        vertical-align: middle;\n",
       "    }\n",
       "\n",
       "    .dataframe tbody tr th {\n",
       "        vertical-align: top;\n",
       "    }\n",
       "\n",
       "    .dataframe thead th {\n",
       "        text-align: right;\n",
       "    }\n",
       "</style>\n",
       "<table border=\"1\" class=\"dataframe\">\n",
       "  <thead>\n",
       "    <tr style=\"text-align: right;\">\n",
       "      <th></th>\n",
       "      <th>Tweet_ID</th>\n",
       "      <th>Index</th>\n",
       "    </tr>\n",
       "  </thead>\n",
       "  <tbody>\n",
       "    <tr>\n",
       "      <th>0</th>\n",
       "      <td>ID_783610962645553152_loc1_start</td>\n",
       "      <td>11</td>\n",
       "    </tr>\n",
       "    <tr>\n",
       "      <th>1</th>\n",
       "      <td>ID_783610962645553152_loc1_end</td>\n",
       "      <td>25</td>\n",
       "    </tr>\n",
       "    <tr>\n",
       "      <th>2</th>\n",
       "      <td>ID_783610962645553152_loc2_start</td>\n",
       "      <td>99</td>\n",
       "    </tr>\n",
       "    <tr>\n",
       "      <th>3</th>\n",
       "      <td>ID_783610962645553152_loc2_end</td>\n",
       "      <td>104</td>\n",
       "    </tr>\n",
       "    <tr>\n",
       "      <th>4</th>\n",
       "      <td>ID_783610962645553152_loc3_start</td>\n",
       "      <td>107</td>\n",
       "    </tr>\n",
       "    <tr>\n",
       "      <th>...</th>\n",
       "      <td>...</td>\n",
       "      <td>...</td>\n",
       "    </tr>\n",
       "    <tr>\n",
       "      <th>69899</th>\n",
       "      <td>ID_902750773817331712_loc15_end</td>\n",
       "      <td>0</td>\n",
       "    </tr>\n",
       "    <tr>\n",
       "      <th>69900</th>\n",
       "      <td>ID_902750773817331712_loc16_start</td>\n",
       "      <td>0</td>\n",
       "    </tr>\n",
       "    <tr>\n",
       "      <th>69901</th>\n",
       "      <td>ID_902750773817331712_loc16_end</td>\n",
       "      <td>0</td>\n",
       "    </tr>\n",
       "    <tr>\n",
       "      <th>69902</th>\n",
       "      <td>ID_902750773817331712_loc17_start</td>\n",
       "      <td>0</td>\n",
       "    </tr>\n",
       "    <tr>\n",
       "      <th>69903</th>\n",
       "      <td>ID_902750773817331712_loc17_end</td>\n",
       "      <td>0</td>\n",
       "    </tr>\n",
       "  </tbody>\n",
       "</table>\n",
       "<p>69904 rows × 2 columns</p>\n",
       "</div>"
      ],
      "text/plain": [
       "                                Tweet_ID  Index\n",
       "0       ID_783610962645553152_loc1_start     11\n",
       "1         ID_783610962645553152_loc1_end     25\n",
       "2       ID_783610962645553152_loc2_start     99\n",
       "3         ID_783610962645553152_loc2_end    104\n",
       "4       ID_783610962645553152_loc3_start    107\n",
       "...                                  ...    ...\n",
       "69899    ID_902750773817331712_loc15_end      0\n",
       "69900  ID_902750773817331712_loc16_start      0\n",
       "69901    ID_902750773817331712_loc16_end      0\n",
       "69902  ID_902750773817331712_loc17_start      0\n",
       "69903    ID_902750773817331712_loc17_end      0\n",
       "\n",
       "[69904 rows x 2 columns]"
      ]
     },
     "execution_count": 34,
     "metadata": {},
     "output_type": "execute_result"
    }
   ],
   "source": [
    "valxx"
   ]
  },
  {
   "cell_type": "code",
   "execution_count": 35,
   "id": "7c50300e",
   "metadata": {
    "execution": {
     "iopub.execute_input": "2023-10-23T21:19:30.584032Z",
     "iopub.status.busy": "2023-10-23T21:19:30.583763Z",
     "iopub.status.idle": "2023-10-23T21:19:30.617553Z",
     "shell.execute_reply": "2023-10-23T21:19:30.616823Z"
    },
    "papermill": {
     "duration": 0.063711,
     "end_time": "2023-10-23T21:19:30.619443",
     "exception": false,
     "start_time": "2023-10-23T21:19:30.555732",
     "status": "completed"
    },
    "tags": []
   },
   "outputs": [],
   "source": [
    "valxx[\"Index2\"] = final_preds"
   ]
  },
  {
   "cell_type": "code",
   "execution_count": 36,
   "id": "3cabd7b6",
   "metadata": {
    "execution": {
     "iopub.execute_input": "2023-10-23T21:19:30.674512Z",
     "iopub.status.busy": "2023-10-23T21:19:30.674219Z",
     "iopub.status.idle": "2023-10-23T21:19:30.681453Z",
     "shell.execute_reply": "2023-10-23T21:19:30.680672Z"
    },
    "papermill": {
     "duration": 0.036802,
     "end_time": "2023-10-23T21:19:30.683324",
     "exception": false,
     "start_time": "2023-10-23T21:19:30.646522",
     "status": "completed"
    },
    "tags": []
   },
   "outputs": [
    {
     "data": {
      "text/plain": [
       "11.991980373181544"
      ]
     },
     "execution_count": 36,
     "metadata": {},
     "output_type": "execute_result"
    }
   ],
   "source": [
    "from sklearn.metrics import mean_squared_error\n",
    "mean_squared_error(valxx[\"Index2\"],valxx[\"Index\"], squared=False)"
   ]
  }
 ],
 "metadata": {
  "kernelspec": {
   "display_name": "Python 3 (ipykernel)",
   "language": "python",
   "name": "python3"
  },
  "language_info": {
   "codemirror_mode": {
    "name": "ipython",
    "version": 3
   },
   "file_extension": ".py",
   "mimetype": "text/x-python",
   "name": "python",
   "nbconvert_exporter": "python",
   "pygments_lexer": "ipython3",
   "version": "3.9.12"
  },
  "papermill": {
   "default_parameters": {},
   "duration": 194.625874,
   "end_time": "2023-10-23T21:19:33.582335",
   "environment_variables": {},
   "exception": null,
   "input_path": "__notebook__.ipynb",
   "output_path": "__notebook__.ipynb",
   "parameters": {},
   "start_time": "2023-10-23T21:16:18.956461",
   "version": "2.4.0"
  },
  "widgets": {
   "application/vnd.jupyter.widget-state+json": {
    "state": {
     "03fff57086a24f10a0f25ac988407bbd": {
      "model_module": "@jupyter-widgets/base",
      "model_module_version": "1.2.0",
      "model_name": "LayoutModel",
      "state": {
       "_model_module": "@jupyter-widgets/base",
       "_model_module_version": "1.2.0",
       "_model_name": "LayoutModel",
       "_view_count": null,
       "_view_module": "@jupyter-widgets/base",
       "_view_module_version": "1.2.0",
       "_view_name": "LayoutView",
       "align_content": null,
       "align_items": null,
       "align_self": null,
       "border": null,
       "bottom": null,
       "display": null,
       "flex": null,
       "flex_flow": null,
       "grid_area": null,
       "grid_auto_columns": null,
       "grid_auto_flow": null,
       "grid_auto_rows": null,
       "grid_column": null,
       "grid_gap": null,
       "grid_row": null,
       "grid_template_areas": null,
       "grid_template_columns": null,
       "grid_template_rows": null,
       "height": null,
       "justify_content": null,
       "justify_items": null,
       "left": null,
       "margin": null,
       "max_height": null,
       "max_width": null,
       "min_height": null,
       "min_width": null,
       "object_fit": null,
       "object_position": null,
       "order": null,
       "overflow": null,
       "overflow_x": null,
       "overflow_y": null,
       "padding": null,
       "right": null,
       "top": null,
       "visibility": null,
       "width": null
      }
     },
     "0b3ba74784434298be2536dd5d1605c5": {
      "model_module": "@jupyter-widgets/controls",
      "model_module_version": "1.5.0",
      "model_name": "HTMLModel",
      "state": {
       "_dom_classes": [],
       "_model_module": "@jupyter-widgets/controls",
       "_model_module_version": "1.5.0",
       "_model_name": "HTMLModel",
       "_view_count": null,
       "_view_module": "@jupyter-widgets/controls",
       "_view_module_version": "1.5.0",
       "_view_name": "HTMLView",
       "description": "",
       "description_tooltip": null,
       "layout": "IPY_MODEL_4aaa0651c5c042978ceb673af4ef6f63",
       "placeholder": "​",
       "style": "IPY_MODEL_10a1df1e39d34c84a67eb3decf77af97",
       "value": "Downloading (…)cial_tokens_map.json: 100%"
      }
     },
     "0e1bb46961534e5aa694c44919564b5c": {
      "model_module": "@jupyter-widgets/controls",
      "model_module_version": "1.5.0",
      "model_name": "HTMLModel",
      "state": {
       "_dom_classes": [],
       "_model_module": "@jupyter-widgets/controls",
       "_model_module_version": "1.5.0",
       "_model_name": "HTMLModel",
       "_view_count": null,
       "_view_module": "@jupyter-widgets/controls",
       "_view_module_version": "1.5.0",
       "_view_name": "HTMLView",
       "description": "",
       "description_tooltip": null,
       "layout": "IPY_MODEL_db081efa1a4f4534908627b11566a687",
       "placeholder": "​",
       "style": "IPY_MODEL_eac121b001324a019a3bfd118ec58334",
       "value": "Downloading (…)solve/main/vocab.txt: 100%"
      }
     },
     "10a1df1e39d34c84a67eb3decf77af97": {
      "model_module": "@jupyter-widgets/controls",
      "model_module_version": "1.5.0",
      "model_name": "DescriptionStyleModel",
      "state": {
       "_model_module": "@jupyter-widgets/controls",
       "_model_module_version": "1.5.0",
       "_model_name": "DescriptionStyleModel",
       "_view_count": null,
       "_view_module": "@jupyter-widgets/base",
       "_view_module_version": "1.2.0",
       "_view_name": "StyleView",
       "description_width": ""
      }
     },
     "114cdb48762548a5b514cdfcb601ccfd": {
      "model_module": "@jupyter-widgets/base",
      "model_module_version": "1.2.0",
      "model_name": "LayoutModel",
      "state": {
       "_model_module": "@jupyter-widgets/base",
       "_model_module_version": "1.2.0",
       "_model_name": "LayoutModel",
       "_view_count": null,
       "_view_module": "@jupyter-widgets/base",
       "_view_module_version": "1.2.0",
       "_view_name": "LayoutView",
       "align_content": null,
       "align_items": null,
       "align_self": null,
       "border": null,
       "bottom": null,
       "display": null,
       "flex": null,
       "flex_flow": null,
       "grid_area": null,
       "grid_auto_columns": null,
       "grid_auto_flow": null,
       "grid_auto_rows": null,
       "grid_column": null,
       "grid_gap": null,
       "grid_row": null,
       "grid_template_areas": null,
       "grid_template_columns": null,
       "grid_template_rows": null,
       "height": null,
       "justify_content": null,
       "justify_items": null,
       "left": null,
       "margin": null,
       "max_height": null,
       "max_width": null,
       "min_height": null,
       "min_width": null,
       "object_fit": null,
       "object_position": null,
       "order": null,
       "overflow": null,
       "overflow_x": null,
       "overflow_y": null,
       "padding": null,
       "right": null,
       "top": null,
       "visibility": null,
       "width": null
      }
     },
     "286d647bc66c46e1a94527887dbafdbc": {
      "model_module": "@jupyter-widgets/base",
      "model_module_version": "1.2.0",
      "model_name": "LayoutModel",
      "state": {
       "_model_module": "@jupyter-widgets/base",
       "_model_module_version": "1.2.0",
       "_model_name": "LayoutModel",
       "_view_count": null,
       "_view_module": "@jupyter-widgets/base",
       "_view_module_version": "1.2.0",
       "_view_name": "LayoutView",
       "align_content": null,
       "align_items": null,
       "align_self": null,
       "border": null,
       "bottom": null,
       "display": null,
       "flex": null,
       "flex_flow": null,
       "grid_area": null,
       "grid_auto_columns": null,
       "grid_auto_flow": null,
       "grid_auto_rows": null,
       "grid_column": null,
       "grid_gap": null,
       "grid_row": null,
       "grid_template_areas": null,
       "grid_template_columns": null,
       "grid_template_rows": null,
       "height": null,
       "justify_content": null,
       "justify_items": null,
       "left": null,
       "margin": null,
       "max_height": null,
       "max_width": null,
       "min_height": null,
       "min_width": null,
       "object_fit": null,
       "object_position": null,
       "order": null,
       "overflow": null,
       "overflow_x": null,
       "overflow_y": null,
       "padding": null,
       "right": null,
       "top": null,
       "visibility": null,
       "width": null
      }
     },
     "290a6e07949341f58ca98c0e89ea823b": {
      "model_module": "@jupyter-widgets/controls",
      "model_module_version": "1.5.0",
      "model_name": "DescriptionStyleModel",
      "state": {
       "_model_module": "@jupyter-widgets/controls",
       "_model_module_version": "1.5.0",
       "_model_name": "DescriptionStyleModel",
       "_view_count": null,
       "_view_module": "@jupyter-widgets/base",
       "_view_module_version": "1.2.0",
       "_view_name": "StyleView",
       "description_width": ""
      }
     },
     "2b8a5778d1604cb998c276162071731e": {
      "model_module": "@jupyter-widgets/controls",
      "model_module_version": "1.5.0",
      "model_name": "ProgressStyleModel",
      "state": {
       "_model_module": "@jupyter-widgets/controls",
       "_model_module_version": "1.5.0",
       "_model_name": "ProgressStyleModel",
       "_view_count": null,
       "_view_module": "@jupyter-widgets/base",
       "_view_module_version": "1.2.0",
       "_view_name": "StyleView",
       "bar_color": null,
       "description_width": ""
      }
     },
     "2bdc051d7d9245e883b0fc3ba056be24": {
      "model_module": "@jupyter-widgets/controls",
      "model_module_version": "1.5.0",
      "model_name": "HBoxModel",
      "state": {
       "_dom_classes": [],
       "_model_module": "@jupyter-widgets/controls",
       "_model_module_version": "1.5.0",
       "_model_name": "HBoxModel",
       "_view_count": null,
       "_view_module": "@jupyter-widgets/controls",
       "_view_module_version": "1.5.0",
       "_view_name": "HBoxView",
       "box_style": "",
       "children": [
        "IPY_MODEL_0b3ba74784434298be2536dd5d1605c5",
        "IPY_MODEL_f4183b836eec404b882311f02feff22b",
        "IPY_MODEL_bd052ae628c74a949131bfe9cc813ee7"
       ],
       "layout": "IPY_MODEL_a115d852f5ec4f828cf157ee9123787c"
      }
     },
     "31223d0d4e634e47a500d5a89f7929a2": {
      "model_module": "@jupyter-widgets/base",
      "model_module_version": "1.2.0",
      "model_name": "LayoutModel",
      "state": {
       "_model_module": "@jupyter-widgets/base",
       "_model_module_version": "1.2.0",
       "_model_name": "LayoutModel",
       "_view_count": null,
       "_view_module": "@jupyter-widgets/base",
       "_view_module_version": "1.2.0",
       "_view_name": "LayoutView",
       "align_content": null,
       "align_items": null,
       "align_self": null,
       "border": null,
       "bottom": null,
       "display": null,
       "flex": null,
       "flex_flow": null,
       "grid_area": null,
       "grid_auto_columns": null,
       "grid_auto_flow": null,
       "grid_auto_rows": null,
       "grid_column": null,
       "grid_gap": null,
       "grid_row": null,
       "grid_template_areas": null,
       "grid_template_columns": null,
       "grid_template_rows": null,
       "height": null,
       "justify_content": null,
       "justify_items": null,
       "left": null,
       "margin": null,
       "max_height": null,
       "max_width": null,
       "min_height": null,
       "min_width": null,
       "object_fit": null,
       "object_position": null,
       "order": null,
       "overflow": null,
       "overflow_x": null,
       "overflow_y": null,
       "padding": null,
       "right": null,
       "top": null,
       "visibility": null,
       "width": null
      }
     },
     "39eb02793761447a870339d931283e5e": {
      "model_module": "@jupyter-widgets/controls",
      "model_module_version": "1.5.0",
      "model_name": "FloatProgressModel",
      "state": {
       "_dom_classes": [],
       "_model_module": "@jupyter-widgets/controls",
       "_model_module_version": "1.5.0",
       "_model_name": "FloatProgressModel",
       "_view_count": null,
       "_view_module": "@jupyter-widgets/controls",
       "_view_module_version": "1.5.0",
       "_view_name": "ProgressView",
       "bar_style": "success",
       "description": "",
       "description_tooltip": null,
       "layout": "IPY_MODEL_c311874620de48de9520b6c17f371711",
       "max": 213450,
       "min": 0,
       "orientation": "horizontal",
       "style": "IPY_MODEL_c2fa10033ed74a6ab71526bb87edb07f",
       "value": 213450
      }
     },
     "3d59a1eb0aad4baaa5df8227543dc0cc": {
      "model_module": "@jupyter-widgets/controls",
      "model_module_version": "1.5.0",
      "model_name": "ProgressStyleModel",
      "state": {
       "_model_module": "@jupyter-widgets/controls",
       "_model_module_version": "1.5.0",
       "_model_name": "ProgressStyleModel",
       "_view_count": null,
       "_view_module": "@jupyter-widgets/base",
       "_view_module_version": "1.2.0",
       "_view_name": "StyleView",
       "bar_color": null,
       "description_width": ""
      }
     },
     "4191ed31ca9547c3886d87db25821f00": {
      "model_module": "@jupyter-widgets/controls",
      "model_module_version": "1.5.0",
      "model_name": "HTMLModel",
      "state": {
       "_dom_classes": [],
       "_model_module": "@jupyter-widgets/controls",
       "_model_module_version": "1.5.0",
       "_model_name": "HTMLModel",
       "_view_count": null,
       "_view_module": "@jupyter-widgets/controls",
       "_view_module_version": "1.5.0",
       "_view_name": "HTMLView",
       "description": "",
       "description_tooltip": null,
       "layout": "IPY_MODEL_cee37a040da54e63b2ad586ff5e2fc5b",
       "placeholder": "​",
       "style": "IPY_MODEL_77e120cfe81849a0bdfe8cce8739eb68",
       "value": "Downloading (…)lve/main/config.json: 100%"
      }
     },
     "4429e3d8732b46cb90ef59421f4bfe51": {
      "model_module": "@jupyter-widgets/base",
      "model_module_version": "1.2.0",
      "model_name": "LayoutModel",
      "state": {
       "_model_module": "@jupyter-widgets/base",
       "_model_module_version": "1.2.0",
       "_model_name": "LayoutModel",
       "_view_count": null,
       "_view_module": "@jupyter-widgets/base",
       "_view_module_version": "1.2.0",
       "_view_name": "LayoutView",
       "align_content": null,
       "align_items": null,
       "align_self": null,
       "border": null,
       "bottom": null,
       "display": null,
       "flex": null,
       "flex_flow": null,
       "grid_area": null,
       "grid_auto_columns": null,
       "grid_auto_flow": null,
       "grid_auto_rows": null,
       "grid_column": null,
       "grid_gap": null,
       "grid_row": null,
       "grid_template_areas": null,
       "grid_template_columns": null,
       "grid_template_rows": null,
       "height": null,
       "justify_content": null,
       "justify_items": null,
       "left": null,
       "margin": null,
       "max_height": null,
       "max_width": null,
       "min_height": null,
       "min_width": null,
       "object_fit": null,
       "object_position": null,
       "order": null,
       "overflow": null,
       "overflow_x": null,
       "overflow_y": null,
       "padding": null,
       "right": null,
       "top": null,
       "visibility": null,
       "width": null
      }
     },
     "46fc92ec9ace42fa950abd5c5640de88": {
      "model_module": "@jupyter-widgets/base",
      "model_module_version": "1.2.0",
      "model_name": "LayoutModel",
      "state": {
       "_model_module": "@jupyter-widgets/base",
       "_model_module_version": "1.2.0",
       "_model_name": "LayoutModel",
       "_view_count": null,
       "_view_module": "@jupyter-widgets/base",
       "_view_module_version": "1.2.0",
       "_view_name": "LayoutView",
       "align_content": null,
       "align_items": null,
       "align_self": null,
       "border": null,
       "bottom": null,
       "display": null,
       "flex": null,
       "flex_flow": null,
       "grid_area": null,
       "grid_auto_columns": null,
       "grid_auto_flow": null,
       "grid_auto_rows": null,
       "grid_column": null,
       "grid_gap": null,
       "grid_row": null,
       "grid_template_areas": null,
       "grid_template_columns": null,
       "grid_template_rows": null,
       "height": null,
       "justify_content": null,
       "justify_items": null,
       "left": null,
       "margin": null,
       "max_height": null,
       "max_width": null,
       "min_height": null,
       "min_width": null,
       "object_fit": null,
       "object_position": null,
       "order": null,
       "overflow": null,
       "overflow_x": null,
       "overflow_y": null,
       "padding": null,
       "right": null,
       "top": null,
       "visibility": null,
       "width": null
      }
     },
     "498af54ae0e94956ab3ca80a07e62a91": {
      "model_module": "@jupyter-widgets/controls",
      "model_module_version": "1.5.0",
      "model_name": "HTMLModel",
      "state": {
       "_dom_classes": [],
       "_model_module": "@jupyter-widgets/controls",
       "_model_module_version": "1.5.0",
       "_model_name": "HTMLModel",
       "_view_count": null,
       "_view_module": "@jupyter-widgets/controls",
       "_view_module_version": "1.5.0",
       "_view_name": "HTMLView",
       "description": "",
       "description_tooltip": null,
       "layout": "IPY_MODEL_4429e3d8732b46cb90ef59421f4bfe51",
       "placeholder": "​",
       "style": "IPY_MODEL_d0ab98b3b3b9411c8c9a8a879c09a977",
       "value": " 1.31k/1.31k [00:00&lt;00:00, 107kB/s]"
      }
     },
     "4aaa0651c5c042978ceb673af4ef6f63": {
      "model_module": "@jupyter-widgets/base",
      "model_module_version": "1.2.0",
      "model_name": "LayoutModel",
      "state": {
       "_model_module": "@jupyter-widgets/base",
       "_model_module_version": "1.2.0",
       "_model_name": "LayoutModel",
       "_view_count": null,
       "_view_module": "@jupyter-widgets/base",
       "_view_module_version": "1.2.0",
       "_view_name": "LayoutView",
       "align_content": null,
       "align_items": null,
       "align_self": null,
       "border": null,
       "bottom": null,
       "display": null,
       "flex": null,
       "flex_flow": null,
       "grid_area": null,
       "grid_auto_columns": null,
       "grid_auto_flow": null,
       "grid_auto_rows": null,
       "grid_column": null,
       "grid_gap": null,
       "grid_row": null,
       "grid_template_areas": null,
       "grid_template_columns": null,
       "grid_template_rows": null,
       "height": null,
       "justify_content": null,
       "justify_items": null,
       "left": null,
       "margin": null,
       "max_height": null,
       "max_width": null,
       "min_height": null,
       "min_width": null,
       "object_fit": null,
       "object_position": null,
       "order": null,
       "overflow": null,
       "overflow_x": null,
       "overflow_y": null,
       "padding": null,
       "right": null,
       "top": null,
       "visibility": null,
       "width": null
      }
     },
     "4bc8f291bee0483b996fb28d0b7058b2": {
      "model_module": "@jupyter-widgets/base",
      "model_module_version": "1.2.0",
      "model_name": "LayoutModel",
      "state": {
       "_model_module": "@jupyter-widgets/base",
       "_model_module_version": "1.2.0",
       "_model_name": "LayoutModel",
       "_view_count": null,
       "_view_module": "@jupyter-widgets/base",
       "_view_module_version": "1.2.0",
       "_view_name": "LayoutView",
       "align_content": null,
       "align_items": null,
       "align_self": null,
       "border": null,
       "bottom": null,
       "display": null,
       "flex": null,
       "flex_flow": null,
       "grid_area": null,
       "grid_auto_columns": null,
       "grid_auto_flow": null,
       "grid_auto_rows": null,
       "grid_column": null,
       "grid_gap": null,
       "grid_row": null,
       "grid_template_areas": null,
       "grid_template_columns": null,
       "grid_template_rows": null,
       "height": null,
       "justify_content": null,
       "justify_items": null,
       "left": null,
       "margin": null,
       "max_height": null,
       "max_width": null,
       "min_height": null,
       "min_width": null,
       "object_fit": null,
       "object_position": null,
       "order": null,
       "overflow": null,
       "overflow_x": null,
       "overflow_y": null,
       "padding": null,
       "right": null,
       "top": null,
       "visibility": null,
       "width": null
      }
     },
     "4d5106a2cd4d468bbf0b74ce32739451": {
      "model_module": "@jupyter-widgets/controls",
      "model_module_version": "1.5.0",
      "model_name": "ProgressStyleModel",
      "state": {
       "_model_module": "@jupyter-widgets/controls",
       "_model_module_version": "1.5.0",
       "_model_name": "ProgressStyleModel",
       "_view_count": null,
       "_view_module": "@jupyter-widgets/base",
       "_view_module_version": "1.2.0",
       "_view_name": "StyleView",
       "bar_color": null,
       "description_width": ""
      }
     },
     "5a5f65bb251940c6b93c6e7990d4003d": {
      "model_module": "@jupyter-widgets/controls",
      "model_module_version": "1.5.0",
      "model_name": "HBoxModel",
      "state": {
       "_dom_classes": [],
       "_model_module": "@jupyter-widgets/controls",
       "_model_module_version": "1.5.0",
       "_model_name": "HBoxModel",
       "_view_count": null,
       "_view_module": "@jupyter-widgets/controls",
       "_view_module_version": "1.5.0",
       "_view_name": "HBoxView",
       "box_style": "",
       "children": [
        "IPY_MODEL_4191ed31ca9547c3886d87db25821f00",
        "IPY_MODEL_ebe30016406643408ac62dfad74747a6",
        "IPY_MODEL_498af54ae0e94956ab3ca80a07e62a91"
       ],
       "layout": "IPY_MODEL_ff0be1be9bc14ed1a4f9bee194b99d9f"
      }
     },
     "6632a1a84fff400bb01cbb7d3982d4d7": {
      "model_module": "@jupyter-widgets/controls",
      "model_module_version": "1.5.0",
      "model_name": "DescriptionStyleModel",
      "state": {
       "_model_module": "@jupyter-widgets/controls",
       "_model_module_version": "1.5.0",
       "_model_name": "DescriptionStyleModel",
       "_view_count": null,
       "_view_module": "@jupyter-widgets/base",
       "_view_module_version": "1.2.0",
       "_view_name": "StyleView",
       "description_width": ""
      }
     },
     "68209fce0fd846c48b3556eeedaee241": {
      "model_module": "@jupyter-widgets/controls",
      "model_module_version": "1.5.0",
      "model_name": "FloatProgressModel",
      "state": {
       "_dom_classes": [],
       "_model_module": "@jupyter-widgets/controls",
       "_model_module_version": "1.5.0",
       "_model_name": "FloatProgressModel",
       "_view_count": null,
       "_view_module": "@jupyter-widgets/controls",
       "_view_module_version": "1.5.0",
       "_view_name": "ProgressView",
       "bar_style": "success",
       "description": "",
       "description_tooltip": null,
       "layout": "IPY_MODEL_03fff57086a24f10a0f25ac988407bbd",
       "max": 40,
       "min": 0,
       "orientation": "horizontal",
       "style": "IPY_MODEL_2b8a5778d1604cb998c276162071731e",
       "value": 40
      }
     },
     "73660e5d9b3545bba8cb37fc4de3a9fa": {
      "model_module": "@jupyter-widgets/base",
      "model_module_version": "1.2.0",
      "model_name": "LayoutModel",
      "state": {
       "_model_module": "@jupyter-widgets/base",
       "_model_module_version": "1.2.0",
       "_model_name": "LayoutModel",
       "_view_count": null,
       "_view_module": "@jupyter-widgets/base",
       "_view_module_version": "1.2.0",
       "_view_name": "LayoutView",
       "align_content": null,
       "align_items": null,
       "align_self": null,
       "border": null,
       "bottom": null,
       "display": null,
       "flex": null,
       "flex_flow": null,
       "grid_area": null,
       "grid_auto_columns": null,
       "grid_auto_flow": null,
       "grid_auto_rows": null,
       "grid_column": null,
       "grid_gap": null,
       "grid_row": null,
       "grid_template_areas": null,
       "grid_template_columns": null,
       "grid_template_rows": null,
       "height": null,
       "justify_content": null,
       "justify_items": null,
       "left": null,
       "margin": null,
       "max_height": null,
       "max_width": null,
       "min_height": null,
       "min_width": null,
       "object_fit": null,
       "object_position": null,
       "order": null,
       "overflow": null,
       "overflow_x": null,
       "overflow_y": null,
       "padding": null,
       "right": null,
       "top": null,
       "visibility": null,
       "width": null
      }
     },
     "775716b6f59c4488a5c7145957b00862": {
      "model_module": "@jupyter-widgets/controls",
      "model_module_version": "1.5.0",
      "model_name": "HBoxModel",
      "state": {
       "_dom_classes": [],
       "_model_module": "@jupyter-widgets/controls",
       "_model_module_version": "1.5.0",
       "_model_name": "HBoxModel",
       "_view_count": null,
       "_view_module": "@jupyter-widgets/controls",
       "_view_module_version": "1.5.0",
       "_view_name": "HBoxView",
       "box_style": "",
       "children": [
        "IPY_MODEL_7f0674d3aff1424bab17e4094604bc9e",
        "IPY_MODEL_68209fce0fd846c48b3556eeedaee241",
        "IPY_MODEL_ccfe6bb77b894987a3aad3843ef1d28c"
       ],
       "layout": "IPY_MODEL_31223d0d4e634e47a500d5a89f7929a2"
      }
     },
     "77e120cfe81849a0bdfe8cce8739eb68": {
      "model_module": "@jupyter-widgets/controls",
      "model_module_version": "1.5.0",
      "model_name": "DescriptionStyleModel",
      "state": {
       "_model_module": "@jupyter-widgets/controls",
       "_model_module_version": "1.5.0",
       "_model_name": "DescriptionStyleModel",
       "_view_count": null,
       "_view_module": "@jupyter-widgets/base",
       "_view_module_version": "1.2.0",
       "_view_name": "StyleView",
       "description_width": ""
      }
     },
     "78a17bc2b52a4eecbfa12a3138b09221": {
      "model_module": "@jupyter-widgets/controls",
      "model_module_version": "1.5.0",
      "model_name": "DescriptionStyleModel",
      "state": {
       "_model_module": "@jupyter-widgets/controls",
       "_model_module_version": "1.5.0",
       "_model_name": "DescriptionStyleModel",
       "_view_count": null,
       "_view_module": "@jupyter-widgets/base",
       "_view_module_version": "1.2.0",
       "_view_name": "StyleView",
       "description_width": ""
      }
     },
     "7f0674d3aff1424bab17e4094604bc9e": {
      "model_module": "@jupyter-widgets/controls",
      "model_module_version": "1.5.0",
      "model_name": "HTMLModel",
      "state": {
       "_dom_classes": [],
       "_model_module": "@jupyter-widgets/controls",
       "_model_module_version": "1.5.0",
       "_model_name": "HTMLModel",
       "_view_count": null,
       "_view_module": "@jupyter-widgets/controls",
       "_view_module_version": "1.5.0",
       "_view_name": "HTMLView",
       "description": "",
       "description_tooltip": null,
       "layout": "IPY_MODEL_73660e5d9b3545bba8cb37fc4de3a9fa",
       "placeholder": "​",
       "style": "IPY_MODEL_c5c435f77c9f4181a30240fd3c58d4e8",
       "value": "Downloading (…)okenizer_config.json: 100%"
      }
     },
     "8cde6e861cb6431f814fd65388a6d20e": {
      "model_module": "@jupyter-widgets/controls",
      "model_module_version": "1.5.0",
      "model_name": "DescriptionStyleModel",
      "state": {
       "_model_module": "@jupyter-widgets/controls",
       "_model_module_version": "1.5.0",
       "_model_name": "DescriptionStyleModel",
       "_view_count": null,
       "_view_module": "@jupyter-widgets/base",
       "_view_module_version": "1.2.0",
       "_view_name": "StyleView",
       "description_width": ""
      }
     },
     "8dd795c52cff4c4f89ae39f25841f609": {
      "model_module": "@jupyter-widgets/base",
      "model_module_version": "1.2.0",
      "model_name": "LayoutModel",
      "state": {
       "_model_module": "@jupyter-widgets/base",
       "_model_module_version": "1.2.0",
       "_model_name": "LayoutModel",
       "_view_count": null,
       "_view_module": "@jupyter-widgets/base",
       "_view_module_version": "1.2.0",
       "_view_name": "LayoutView",
       "align_content": null,
       "align_items": null,
       "align_self": null,
       "border": null,
       "bottom": null,
       "display": null,
       "flex": null,
       "flex_flow": null,
       "grid_area": null,
       "grid_auto_columns": null,
       "grid_auto_flow": null,
       "grid_auto_rows": null,
       "grid_column": null,
       "grid_gap": null,
       "grid_row": null,
       "grid_template_areas": null,
       "grid_template_columns": null,
       "grid_template_rows": null,
       "height": null,
       "justify_content": null,
       "justify_items": null,
       "left": null,
       "margin": null,
       "max_height": null,
       "max_width": null,
       "min_height": null,
       "min_width": null,
       "object_fit": null,
       "object_position": null,
       "order": null,
       "overflow": null,
       "overflow_x": null,
       "overflow_y": null,
       "padding": null,
       "right": null,
       "top": null,
       "visibility": null,
       "width": null
      }
     },
     "8edb55c78855423283318a90412e578c": {
      "model_module": "@jupyter-widgets/controls",
      "model_module_version": "1.5.0",
      "model_name": "HBoxModel",
      "state": {
       "_dom_classes": [],
       "_model_module": "@jupyter-widgets/controls",
       "_model_module_version": "1.5.0",
       "_model_name": "HBoxModel",
       "_view_count": null,
       "_view_module": "@jupyter-widgets/controls",
       "_view_module_version": "1.5.0",
       "_view_name": "HBoxView",
       "box_style": "",
       "children": [
        "IPY_MODEL_0e1bb46961534e5aa694c44919564b5c",
        "IPY_MODEL_39eb02793761447a870339d931283e5e",
        "IPY_MODEL_b1678d54a04c40bab331a303b055ff68"
       ],
       "layout": "IPY_MODEL_931cfd07e0b348fd97e92fe492eb8550"
      }
     },
     "931cfd07e0b348fd97e92fe492eb8550": {
      "model_module": "@jupyter-widgets/base",
      "model_module_version": "1.2.0",
      "model_name": "LayoutModel",
      "state": {
       "_model_module": "@jupyter-widgets/base",
       "_model_module_version": "1.2.0",
       "_model_name": "LayoutModel",
       "_view_count": null,
       "_view_module": "@jupyter-widgets/base",
       "_view_module_version": "1.2.0",
       "_view_name": "LayoutView",
       "align_content": null,
       "align_items": null,
       "align_self": null,
       "border": null,
       "bottom": null,
       "display": null,
       "flex": null,
       "flex_flow": null,
       "grid_area": null,
       "grid_auto_columns": null,
       "grid_auto_flow": null,
       "grid_auto_rows": null,
       "grid_column": null,
       "grid_gap": null,
       "grid_row": null,
       "grid_template_areas": null,
       "grid_template_columns": null,
       "grid_template_rows": null,
       "height": null,
       "justify_content": null,
       "justify_items": null,
       "left": null,
       "margin": null,
       "max_height": null,
       "max_width": null,
       "min_height": null,
       "min_width": null,
       "object_fit": null,
       "object_position": null,
       "order": null,
       "overflow": null,
       "overflow_x": null,
       "overflow_y": null,
       "padding": null,
       "right": null,
       "top": null,
       "visibility": null,
       "width": null
      }
     },
     "a115d852f5ec4f828cf157ee9123787c": {
      "model_module": "@jupyter-widgets/base",
      "model_module_version": "1.2.0",
      "model_name": "LayoutModel",
      "state": {
       "_model_module": "@jupyter-widgets/base",
       "_model_module_version": "1.2.0",
       "_model_name": "LayoutModel",
       "_view_count": null,
       "_view_module": "@jupyter-widgets/base",
       "_view_module_version": "1.2.0",
       "_view_name": "LayoutView",
       "align_content": null,
       "align_items": null,
       "align_self": null,
       "border": null,
       "bottom": null,
       "display": null,
       "flex": null,
       "flex_flow": null,
       "grid_area": null,
       "grid_auto_columns": null,
       "grid_auto_flow": null,
       "grid_auto_rows": null,
       "grid_column": null,
       "grid_gap": null,
       "grid_row": null,
       "grid_template_areas": null,
       "grid_template_columns": null,
       "grid_template_rows": null,
       "height": null,
       "justify_content": null,
       "justify_items": null,
       "left": null,
       "margin": null,
       "max_height": null,
       "max_width": null,
       "min_height": null,
       "min_width": null,
       "object_fit": null,
       "object_position": null,
       "order": null,
       "overflow": null,
       "overflow_x": null,
       "overflow_y": null,
       "padding": null,
       "right": null,
       "top": null,
       "visibility": null,
       "width": null
      }
     },
     "a4e63c519b00496c9f9bacd98c41af0e": {
      "model_module": "@jupyter-widgets/controls",
      "model_module_version": "1.5.0",
      "model_name": "HTMLModel",
      "state": {
       "_dom_classes": [],
       "_model_module": "@jupyter-widgets/controls",
       "_model_module_version": "1.5.0",
       "_model_name": "HTMLModel",
       "_view_count": null,
       "_view_module": "@jupyter-widgets/controls",
       "_view_module_version": "1.5.0",
       "_view_name": "HTMLView",
       "description": "",
       "description_tooltip": null,
       "layout": "IPY_MODEL_286d647bc66c46e1a94527887dbafdbc",
       "placeholder": "​",
       "style": "IPY_MODEL_78a17bc2b52a4eecbfa12a3138b09221",
       "value": " 1.33G/1.33G [00:04&lt;00:00, 278MB/s]"
      }
     },
     "a6a052adb8ea458ebfaaaeb0e14e3f83": {
      "model_module": "@jupyter-widgets/controls",
      "model_module_version": "1.5.0",
      "model_name": "DescriptionStyleModel",
      "state": {
       "_model_module": "@jupyter-widgets/controls",
       "_model_module_version": "1.5.0",
       "_model_name": "DescriptionStyleModel",
       "_view_count": null,
       "_view_module": "@jupyter-widgets/base",
       "_view_module_version": "1.2.0",
       "_view_name": "StyleView",
       "description_width": ""
      }
     },
     "a91b1d6425124baea357620359441468": {
      "model_module": "@jupyter-widgets/controls",
      "model_module_version": "1.5.0",
      "model_name": "ProgressStyleModel",
      "state": {
       "_model_module": "@jupyter-widgets/controls",
       "_model_module_version": "1.5.0",
       "_model_name": "ProgressStyleModel",
       "_view_count": null,
       "_view_module": "@jupyter-widgets/base",
       "_view_module_version": "1.2.0",
       "_view_name": "StyleView",
       "bar_color": null,
       "description_width": ""
      }
     },
     "b1678d54a04c40bab331a303b055ff68": {
      "model_module": "@jupyter-widgets/controls",
      "model_module_version": "1.5.0",
      "model_name": "HTMLModel",
      "state": {
       "_dom_classes": [],
       "_model_module": "@jupyter-widgets/controls",
       "_model_module_version": "1.5.0",
       "_model_name": "HTMLModel",
       "_view_count": null,
       "_view_module": "@jupyter-widgets/controls",
       "_view_module_version": "1.5.0",
       "_view_name": "HTMLView",
       "description": "",
       "description_tooltip": null,
       "layout": "IPY_MODEL_8dd795c52cff4c4f89ae39f25841f609",
       "placeholder": "​",
       "style": "IPY_MODEL_a6a052adb8ea458ebfaaaeb0e14e3f83",
       "value": " 213k/213k [00:00&lt;00:00, 1.57MB/s]"
      }
     },
     "b8edd247e5de49438e4fe41ad2eb0c75": {
      "model_module": "@jupyter-widgets/controls",
      "model_module_version": "1.5.0",
      "model_name": "HBoxModel",
      "state": {
       "_dom_classes": [],
       "_model_module": "@jupyter-widgets/controls",
       "_model_module_version": "1.5.0",
       "_model_name": "HBoxModel",
       "_view_count": null,
       "_view_module": "@jupyter-widgets/controls",
       "_view_module_version": "1.5.0",
       "_view_name": "HBoxView",
       "box_style": "",
       "children": [
        "IPY_MODEL_d2b37d85a4124ed28630e49c53488fd2",
        "IPY_MODEL_d7dbb14f4d9141bfa3f50192871bbfd0",
        "IPY_MODEL_a4e63c519b00496c9f9bacd98c41af0e"
       ],
       "layout": "IPY_MODEL_ea80914a07e2445b80d726d8e5e2e1b3"
      }
     },
     "ba95bbe116ae4b16a012118f443aabb8": {
      "model_module": "@jupyter-widgets/base",
      "model_module_version": "1.2.0",
      "model_name": "LayoutModel",
      "state": {
       "_model_module": "@jupyter-widgets/base",
       "_model_module_version": "1.2.0",
       "_model_name": "LayoutModel",
       "_view_count": null,
       "_view_module": "@jupyter-widgets/base",
       "_view_module_version": "1.2.0",
       "_view_name": "LayoutView",
       "align_content": null,
       "align_items": null,
       "align_self": null,
       "border": null,
       "bottom": null,
       "display": null,
       "flex": null,
       "flex_flow": null,
       "grid_area": null,
       "grid_auto_columns": null,
       "grid_auto_flow": null,
       "grid_auto_rows": null,
       "grid_column": null,
       "grid_gap": null,
       "grid_row": null,
       "grid_template_areas": null,
       "grid_template_columns": null,
       "grid_template_rows": null,
       "height": null,
       "justify_content": null,
       "justify_items": null,
       "left": null,
       "margin": null,
       "max_height": null,
       "max_width": null,
       "min_height": null,
       "min_width": null,
       "object_fit": null,
       "object_position": null,
       "order": null,
       "overflow": null,
       "overflow_x": null,
       "overflow_y": null,
       "padding": null,
       "right": null,
       "top": null,
       "visibility": null,
       "width": null
      }
     },
     "bd052ae628c74a949131bfe9cc813ee7": {
      "model_module": "@jupyter-widgets/controls",
      "model_module_version": "1.5.0",
      "model_name": "HTMLModel",
      "state": {
       "_dom_classes": [],
       "_model_module": "@jupyter-widgets/controls",
       "_model_module_version": "1.5.0",
       "_model_name": "HTMLModel",
       "_view_count": null,
       "_view_module": "@jupyter-widgets/controls",
       "_view_module_version": "1.5.0",
       "_view_name": "HTMLView",
       "description": "",
       "description_tooltip": null,
       "layout": "IPY_MODEL_46fc92ec9ace42fa950abd5c5640de88",
       "placeholder": "​",
       "style": "IPY_MODEL_290a6e07949341f58ca98c0e89ea823b",
       "value": " 112/112 [00:00&lt;00:00, 9.29kB/s]"
      }
     },
     "c2fa10033ed74a6ab71526bb87edb07f": {
      "model_module": "@jupyter-widgets/controls",
      "model_module_version": "1.5.0",
      "model_name": "ProgressStyleModel",
      "state": {
       "_model_module": "@jupyter-widgets/controls",
       "_model_module_version": "1.5.0",
       "_model_name": "ProgressStyleModel",
       "_view_count": null,
       "_view_module": "@jupyter-widgets/base",
       "_view_module_version": "1.2.0",
       "_view_name": "StyleView",
       "bar_color": null,
       "description_width": ""
      }
     },
     "c311874620de48de9520b6c17f371711": {
      "model_module": "@jupyter-widgets/base",
      "model_module_version": "1.2.0",
      "model_name": "LayoutModel",
      "state": {
       "_model_module": "@jupyter-widgets/base",
       "_model_module_version": "1.2.0",
       "_model_name": "LayoutModel",
       "_view_count": null,
       "_view_module": "@jupyter-widgets/base",
       "_view_module_version": "1.2.0",
       "_view_name": "LayoutView",
       "align_content": null,
       "align_items": null,
       "align_self": null,
       "border": null,
       "bottom": null,
       "display": null,
       "flex": null,
       "flex_flow": null,
       "grid_area": null,
       "grid_auto_columns": null,
       "grid_auto_flow": null,
       "grid_auto_rows": null,
       "grid_column": null,
       "grid_gap": null,
       "grid_row": null,
       "grid_template_areas": null,
       "grid_template_columns": null,
       "grid_template_rows": null,
       "height": null,
       "justify_content": null,
       "justify_items": null,
       "left": null,
       "margin": null,
       "max_height": null,
       "max_width": null,
       "min_height": null,
       "min_width": null,
       "object_fit": null,
       "object_position": null,
       "order": null,
       "overflow": null,
       "overflow_x": null,
       "overflow_y": null,
       "padding": null,
       "right": null,
       "top": null,
       "visibility": null,
       "width": null
      }
     },
     "c5c435f77c9f4181a30240fd3c58d4e8": {
      "model_module": "@jupyter-widgets/controls",
      "model_module_version": "1.5.0",
      "model_name": "DescriptionStyleModel",
      "state": {
       "_model_module": "@jupyter-widgets/controls",
       "_model_module_version": "1.5.0",
       "_model_name": "DescriptionStyleModel",
       "_view_count": null,
       "_view_module": "@jupyter-widgets/base",
       "_view_module_version": "1.2.0",
       "_view_name": "StyleView",
       "description_width": ""
      }
     },
     "ccfe6bb77b894987a3aad3843ef1d28c": {
      "model_module": "@jupyter-widgets/controls",
      "model_module_version": "1.5.0",
      "model_name": "HTMLModel",
      "state": {
       "_dom_classes": [],
       "_model_module": "@jupyter-widgets/controls",
       "_model_module_version": "1.5.0",
       "_model_name": "HTMLModel",
       "_view_count": null,
       "_view_module": "@jupyter-widgets/controls",
       "_view_module_version": "1.5.0",
       "_view_name": "HTMLView",
       "description": "",
       "description_tooltip": null,
       "layout": "IPY_MODEL_4bc8f291bee0483b996fb28d0b7058b2",
       "placeholder": "​",
       "style": "IPY_MODEL_8cde6e861cb6431f814fd65388a6d20e",
       "value": " 40.0/40.0 [00:00&lt;00:00, 2.65kB/s]"
      }
     },
     "cee37a040da54e63b2ad586ff5e2fc5b": {
      "model_module": "@jupyter-widgets/base",
      "model_module_version": "1.2.0",
      "model_name": "LayoutModel",
      "state": {
       "_model_module": "@jupyter-widgets/base",
       "_model_module_version": "1.2.0",
       "_model_name": "LayoutModel",
       "_view_count": null,
       "_view_module": "@jupyter-widgets/base",
       "_view_module_version": "1.2.0",
       "_view_name": "LayoutView",
       "align_content": null,
       "align_items": null,
       "align_self": null,
       "border": null,
       "bottom": null,
       "display": null,
       "flex": null,
       "flex_flow": null,
       "grid_area": null,
       "grid_auto_columns": null,
       "grid_auto_flow": null,
       "grid_auto_rows": null,
       "grid_column": null,
       "grid_gap": null,
       "grid_row": null,
       "grid_template_areas": null,
       "grid_template_columns": null,
       "grid_template_rows": null,
       "height": null,
       "justify_content": null,
       "justify_items": null,
       "left": null,
       "margin": null,
       "max_height": null,
       "max_width": null,
       "min_height": null,
       "min_width": null,
       "object_fit": null,
       "object_position": null,
       "order": null,
       "overflow": null,
       "overflow_x": null,
       "overflow_y": null,
       "padding": null,
       "right": null,
       "top": null,
       "visibility": null,
       "width": null
      }
     },
     "d0ab98b3b3b9411c8c9a8a879c09a977": {
      "model_module": "@jupyter-widgets/controls",
      "model_module_version": "1.5.0",
      "model_name": "DescriptionStyleModel",
      "state": {
       "_model_module": "@jupyter-widgets/controls",
       "_model_module_version": "1.5.0",
       "_model_name": "DescriptionStyleModel",
       "_view_count": null,
       "_view_module": "@jupyter-widgets/base",
       "_view_module_version": "1.2.0",
       "_view_name": "StyleView",
       "description_width": ""
      }
     },
     "d2b37d85a4124ed28630e49c53488fd2": {
      "model_module": "@jupyter-widgets/controls",
      "model_module_version": "1.5.0",
      "model_name": "HTMLModel",
      "state": {
       "_dom_classes": [],
       "_model_module": "@jupyter-widgets/controls",
       "_model_module_version": "1.5.0",
       "_model_name": "HTMLModel",
       "_view_count": null,
       "_view_module": "@jupyter-widgets/controls",
       "_view_module_version": "1.5.0",
       "_view_name": "HTMLView",
       "description": "",
       "description_tooltip": null,
       "layout": "IPY_MODEL_ba95bbe116ae4b16a012118f443aabb8",
       "placeholder": "​",
       "style": "IPY_MODEL_6632a1a84fff400bb01cbb7d3982d4d7",
       "value": "Downloading pytorch_model.bin: 100%"
      }
     },
     "d2eb3087a74345ac9d550505c9245747": {
      "model_module": "@jupyter-widgets/base",
      "model_module_version": "1.2.0",
      "model_name": "LayoutModel",
      "state": {
       "_model_module": "@jupyter-widgets/base",
       "_model_module_version": "1.2.0",
       "_model_name": "LayoutModel",
       "_view_count": null,
       "_view_module": "@jupyter-widgets/base",
       "_view_module_version": "1.2.0",
       "_view_name": "LayoutView",
       "align_content": null,
       "align_items": null,
       "align_self": null,
       "border": null,
       "bottom": null,
       "display": null,
       "flex": null,
       "flex_flow": null,
       "grid_area": null,
       "grid_auto_columns": null,
       "grid_auto_flow": null,
       "grid_auto_rows": null,
       "grid_column": null,
       "grid_gap": null,
       "grid_row": null,
       "grid_template_areas": null,
       "grid_template_columns": null,
       "grid_template_rows": null,
       "height": null,
       "justify_content": null,
       "justify_items": null,
       "left": null,
       "margin": null,
       "max_height": null,
       "max_width": null,
       "min_height": null,
       "min_width": null,
       "object_fit": null,
       "object_position": null,
       "order": null,
       "overflow": null,
       "overflow_x": null,
       "overflow_y": null,
       "padding": null,
       "right": null,
       "top": null,
       "visibility": null,
       "width": null
      }
     },
     "d63b4eae389c4268a23d1caec5e83854": {
      "model_module": "@jupyter-widgets/base",
      "model_module_version": "1.2.0",
      "model_name": "LayoutModel",
      "state": {
       "_model_module": "@jupyter-widgets/base",
       "_model_module_version": "1.2.0",
       "_model_name": "LayoutModel",
       "_view_count": null,
       "_view_module": "@jupyter-widgets/base",
       "_view_module_version": "1.2.0",
       "_view_name": "LayoutView",
       "align_content": null,
       "align_items": null,
       "align_self": null,
       "border": null,
       "bottom": null,
       "display": null,
       "flex": null,
       "flex_flow": null,
       "grid_area": null,
       "grid_auto_columns": null,
       "grid_auto_flow": null,
       "grid_auto_rows": null,
       "grid_column": null,
       "grid_gap": null,
       "grid_row": null,
       "grid_template_areas": null,
       "grid_template_columns": null,
       "grid_template_rows": null,
       "height": null,
       "justify_content": null,
       "justify_items": null,
       "left": null,
       "margin": null,
       "max_height": null,
       "max_width": null,
       "min_height": null,
       "min_width": null,
       "object_fit": null,
       "object_position": null,
       "order": null,
       "overflow": null,
       "overflow_x": null,
       "overflow_y": null,
       "padding": null,
       "right": null,
       "top": null,
       "visibility": null,
       "width": null
      }
     },
     "d7dbb14f4d9141bfa3f50192871bbfd0": {
      "model_module": "@jupyter-widgets/controls",
      "model_module_version": "1.5.0",
      "model_name": "FloatProgressModel",
      "state": {
       "_dom_classes": [],
       "_model_module": "@jupyter-widgets/controls",
       "_model_module_version": "1.5.0",
       "_model_name": "FloatProgressModel",
       "_view_count": null,
       "_view_module": "@jupyter-widgets/controls",
       "_view_module_version": "1.5.0",
       "_view_name": "ProgressView",
       "bar_style": "success",
       "description": "",
       "description_tooltip": null,
       "layout": "IPY_MODEL_114cdb48762548a5b514cdfcb601ccfd",
       "max": 1334437133,
       "min": 0,
       "orientation": "horizontal",
       "style": "IPY_MODEL_4d5106a2cd4d468bbf0b74ce32739451",
       "value": 1334437133
      }
     },
     "db081efa1a4f4534908627b11566a687": {
      "model_module": "@jupyter-widgets/base",
      "model_module_version": "1.2.0",
      "model_name": "LayoutModel",
      "state": {
       "_model_module": "@jupyter-widgets/base",
       "_model_module_version": "1.2.0",
       "_model_name": "LayoutModel",
       "_view_count": null,
       "_view_module": "@jupyter-widgets/base",
       "_view_module_version": "1.2.0",
       "_view_name": "LayoutView",
       "align_content": null,
       "align_items": null,
       "align_self": null,
       "border": null,
       "bottom": null,
       "display": null,
       "flex": null,
       "flex_flow": null,
       "grid_area": null,
       "grid_auto_columns": null,
       "grid_auto_flow": null,
       "grid_auto_rows": null,
       "grid_column": null,
       "grid_gap": null,
       "grid_row": null,
       "grid_template_areas": null,
       "grid_template_columns": null,
       "grid_template_rows": null,
       "height": null,
       "justify_content": null,
       "justify_items": null,
       "left": null,
       "margin": null,
       "max_height": null,
       "max_width": null,
       "min_height": null,
       "min_width": null,
       "object_fit": null,
       "object_position": null,
       "order": null,
       "overflow": null,
       "overflow_x": null,
       "overflow_y": null,
       "padding": null,
       "right": null,
       "top": null,
       "visibility": null,
       "width": null
      }
     },
     "ea80914a07e2445b80d726d8e5e2e1b3": {
      "model_module": "@jupyter-widgets/base",
      "model_module_version": "1.2.0",
      "model_name": "LayoutModel",
      "state": {
       "_model_module": "@jupyter-widgets/base",
       "_model_module_version": "1.2.0",
       "_model_name": "LayoutModel",
       "_view_count": null,
       "_view_module": "@jupyter-widgets/base",
       "_view_module_version": "1.2.0",
       "_view_name": "LayoutView",
       "align_content": null,
       "align_items": null,
       "align_self": null,
       "border": null,
       "bottom": null,
       "display": null,
       "flex": null,
       "flex_flow": null,
       "grid_area": null,
       "grid_auto_columns": null,
       "grid_auto_flow": null,
       "grid_auto_rows": null,
       "grid_column": null,
       "grid_gap": null,
       "grid_row": null,
       "grid_template_areas": null,
       "grid_template_columns": null,
       "grid_template_rows": null,
       "height": null,
       "justify_content": null,
       "justify_items": null,
       "left": null,
       "margin": null,
       "max_height": null,
       "max_width": null,
       "min_height": null,
       "min_width": null,
       "object_fit": null,
       "object_position": null,
       "order": null,
       "overflow": null,
       "overflow_x": null,
       "overflow_y": null,
       "padding": null,
       "right": null,
       "top": null,
       "visibility": null,
       "width": null
      }
     },
     "eac121b001324a019a3bfd118ec58334": {
      "model_module": "@jupyter-widgets/controls",
      "model_module_version": "1.5.0",
      "model_name": "DescriptionStyleModel",
      "state": {
       "_model_module": "@jupyter-widgets/controls",
       "_model_module_version": "1.5.0",
       "_model_name": "DescriptionStyleModel",
       "_view_count": null,
       "_view_module": "@jupyter-widgets/base",
       "_view_module_version": "1.2.0",
       "_view_name": "StyleView",
       "description_width": ""
      }
     },
     "ebe30016406643408ac62dfad74747a6": {
      "model_module": "@jupyter-widgets/controls",
      "model_module_version": "1.5.0",
      "model_name": "FloatProgressModel",
      "state": {
       "_dom_classes": [],
       "_model_module": "@jupyter-widgets/controls",
       "_model_module_version": "1.5.0",
       "_model_name": "FloatProgressModel",
       "_view_count": null,
       "_view_module": "@jupyter-widgets/controls",
       "_view_module_version": "1.5.0",
       "_view_name": "ProgressView",
       "bar_style": "success",
       "description": "",
       "description_tooltip": null,
       "layout": "IPY_MODEL_d63b4eae389c4268a23d1caec5e83854",
       "max": 1309,
       "min": 0,
       "orientation": "horizontal",
       "style": "IPY_MODEL_a91b1d6425124baea357620359441468",
       "value": 1309
      }
     },
     "f4183b836eec404b882311f02feff22b": {
      "model_module": "@jupyter-widgets/controls",
      "model_module_version": "1.5.0",
      "model_name": "FloatProgressModel",
      "state": {
       "_dom_classes": [],
       "_model_module": "@jupyter-widgets/controls",
       "_model_module_version": "1.5.0",
       "_model_name": "FloatProgressModel",
       "_view_count": null,
       "_view_module": "@jupyter-widgets/controls",
       "_view_module_version": "1.5.0",
       "_view_name": "ProgressView",
       "bar_style": "success",
       "description": "",
       "description_tooltip": null,
       "layout": "IPY_MODEL_d2eb3087a74345ac9d550505c9245747",
       "max": 112,
       "min": 0,
       "orientation": "horizontal",
       "style": "IPY_MODEL_3d59a1eb0aad4baaa5df8227543dc0cc",
       "value": 112
      }
     },
     "ff0be1be9bc14ed1a4f9bee194b99d9f": {
      "model_module": "@jupyter-widgets/base",
      "model_module_version": "1.2.0",
      "model_name": "LayoutModel",
      "state": {
       "_model_module": "@jupyter-widgets/base",
       "_model_module_version": "1.2.0",
       "_model_name": "LayoutModel",
       "_view_count": null,
       "_view_module": "@jupyter-widgets/base",
       "_view_module_version": "1.2.0",
       "_view_name": "LayoutView",
       "align_content": null,
       "align_items": null,
       "align_self": null,
       "border": null,
       "bottom": null,
       "display": null,
       "flex": null,
       "flex_flow": null,
       "grid_area": null,
       "grid_auto_columns": null,
       "grid_auto_flow": null,
       "grid_auto_rows": null,
       "grid_column": null,
       "grid_gap": null,
       "grid_row": null,
       "grid_template_areas": null,
       "grid_template_columns": null,
       "grid_template_rows": null,
       "height": null,
       "justify_content": null,
       "justify_items": null,
       "left": null,
       "margin": null,
       "max_height": null,
       "max_width": null,
       "min_height": null,
       "min_width": null,
       "object_fit": null,
       "object_position": null,
       "order": null,
       "overflow": null,
       "overflow_x": null,
       "overflow_y": null,
       "padding": null,
       "right": null,
       "top": null,
       "visibility": null,
       "width": null
      }
     }
    },
    "version_major": 2,
    "version_minor": 0
   }
  }
 },
 "nbformat": 4,
 "nbformat_minor": 5
}
