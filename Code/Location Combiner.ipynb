{
 "cells": [
  {
   "cell_type": "markdown",
   "id": "cadd8ef1",
   "metadata": {},
   "source": [
    "### Ensemble Notebook.\n",
    "\n",
    "This is a simple ensemble of both submission files"
   ]
  },
  {
   "cell_type": "markdown",
   "id": "ab120f6b",
   "metadata": {},
   "source": [
    "### Author: Olufemi Victor Tolulope"
   ]
  },
  {
   "cell_type": "code",
   "execution_count": 1,
   "id": "5f1a41bd",
   "metadata": {},
   "outputs": [],
   "source": [
    "import pandas as pd"
   ]
  },
  {
   "cell_type": "code",
   "execution_count": 2,
   "id": "0b4738cd",
   "metadata": {},
   "outputs": [],
   "source": [
    "one = pd.read_csv(\"model1.csv\")\n",
    "two = pd.read_csv(\"model2.csv\")"
   ]
  },
  {
   "cell_type": "code",
   "execution_count": 3,
   "id": "a7b1c51c",
   "metadata": {},
   "outputs": [
    {
     "data": {
      "text/html": [
       "<div>\n",
       "<style scoped>\n",
       "    .dataframe tbody tr th:only-of-type {\n",
       "        vertical-align: middle;\n",
       "    }\n",
       "\n",
       "    .dataframe tbody tr th {\n",
       "        vertical-align: top;\n",
       "    }\n",
       "\n",
       "    .dataframe thead th {\n",
       "        text-align: right;\n",
       "    }\n",
       "</style>\n",
       "<table border=\"1\" class=\"dataframe\">\n",
       "  <thead>\n",
       "    <tr style=\"text-align: right;\">\n",
       "      <th></th>\n",
       "      <th>Tweet_ID</th>\n",
       "      <th>Index</th>\n",
       "    </tr>\n",
       "  </thead>\n",
       "  <tbody>\n",
       "    <tr>\n",
       "      <th>0</th>\n",
       "      <td>ID_721565577505030144_loc1_start</td>\n",
       "      <td>28</td>\n",
       "    </tr>\n",
       "    <tr>\n",
       "      <th>1</th>\n",
       "      <td>ID_721565577505030144_loc1_end</td>\n",
       "      <td>35</td>\n",
       "    </tr>\n",
       "    <tr>\n",
       "      <th>2</th>\n",
       "      <td>ID_721565577505030144_loc2_start</td>\n",
       "      <td>0</td>\n",
       "    </tr>\n",
       "    <tr>\n",
       "      <th>3</th>\n",
       "      <td>ID_721565577505030144_loc2_end</td>\n",
       "      <td>0</td>\n",
       "    </tr>\n",
       "    <tr>\n",
       "      <th>4</th>\n",
       "      <td>ID_721565577505030144_loc3_start</td>\n",
       "      <td>0</td>\n",
       "    </tr>\n",
       "  </tbody>\n",
       "</table>\n",
       "</div>"
      ],
      "text/plain": [
       "                           Tweet_ID  Index\n",
       "0  ID_721565577505030144_loc1_start     28\n",
       "1    ID_721565577505030144_loc1_end     35\n",
       "2  ID_721565577505030144_loc2_start      0\n",
       "3    ID_721565577505030144_loc2_end      0\n",
       "4  ID_721565577505030144_loc3_start      0"
      ]
     },
     "execution_count": 3,
     "metadata": {},
     "output_type": "execute_result"
    }
   ],
   "source": [
    "one.head()"
   ]
  },
  {
   "cell_type": "code",
   "execution_count": 4,
   "id": "2afc0cec",
   "metadata": {},
   "outputs": [
    {
     "data": {
      "text/html": [
       "<div>\n",
       "<style scoped>\n",
       "    .dataframe tbody tr th:only-of-type {\n",
       "        vertical-align: middle;\n",
       "    }\n",
       "\n",
       "    .dataframe tbody tr th {\n",
       "        vertical-align: top;\n",
       "    }\n",
       "\n",
       "    .dataframe thead th {\n",
       "        text-align: right;\n",
       "    }\n",
       "</style>\n",
       "<table border=\"1\" class=\"dataframe\">\n",
       "  <thead>\n",
       "    <tr style=\"text-align: right;\">\n",
       "      <th></th>\n",
       "      <th>Tweet_ID</th>\n",
       "      <th>Index</th>\n",
       "    </tr>\n",
       "  </thead>\n",
       "  <tbody>\n",
       "    <tr>\n",
       "      <th>0</th>\n",
       "      <td>ID_721565577505030144_loc1_start</td>\n",
       "      <td>28</td>\n",
       "    </tr>\n",
       "    <tr>\n",
       "      <th>1</th>\n",
       "      <td>ID_721565577505030144_loc1_end</td>\n",
       "      <td>35</td>\n",
       "    </tr>\n",
       "    <tr>\n",
       "      <th>2</th>\n",
       "      <td>ID_721565577505030144_loc2_start</td>\n",
       "      <td>0</td>\n",
       "    </tr>\n",
       "    <tr>\n",
       "      <th>3</th>\n",
       "      <td>ID_721565577505030144_loc2_end</td>\n",
       "      <td>0</td>\n",
       "    </tr>\n",
       "    <tr>\n",
       "      <th>4</th>\n",
       "      <td>ID_721565577505030144_loc3_start</td>\n",
       "      <td>0</td>\n",
       "    </tr>\n",
       "  </tbody>\n",
       "</table>\n",
       "</div>"
      ],
      "text/plain": [
       "                           Tweet_ID  Index\n",
       "0  ID_721565577505030144_loc1_start     28\n",
       "1    ID_721565577505030144_loc1_end     35\n",
       "2  ID_721565577505030144_loc2_start      0\n",
       "3    ID_721565577505030144_loc2_end      0\n",
       "4  ID_721565577505030144_loc3_start      0"
      ]
     },
     "execution_count": 4,
     "metadata": {},
     "output_type": "execute_result"
    }
   ],
   "source": [
    "two.head()"
   ]
  },
  {
   "cell_type": "code",
   "execution_count": 6,
   "id": "c868228e",
   "metadata": {},
   "outputs": [],
   "source": [
    "sub = one.copy()\n",
    "sub[\"Index\"] = (one[\"Index\"]+two[\"Index\"])*0.5"
   ]
  },
  {
   "cell_type": "code",
   "execution_count": 7,
   "id": "0d99554e",
   "metadata": {},
   "outputs": [
    {
     "data": {
      "text/html": [
       "<div>\n",
       "<style scoped>\n",
       "    .dataframe tbody tr th:only-of-type {\n",
       "        vertical-align: middle;\n",
       "    }\n",
       "\n",
       "    .dataframe tbody tr th {\n",
       "        vertical-align: top;\n",
       "    }\n",
       "\n",
       "    .dataframe thead th {\n",
       "        text-align: right;\n",
       "    }\n",
       "</style>\n",
       "<table border=\"1\" class=\"dataframe\">\n",
       "  <thead>\n",
       "    <tr style=\"text-align: right;\">\n",
       "      <th></th>\n",
       "      <th>Tweet_ID</th>\n",
       "      <th>Index</th>\n",
       "    </tr>\n",
       "  </thead>\n",
       "  <tbody>\n",
       "    <tr>\n",
       "      <th>0</th>\n",
       "      <td>ID_721565577505030144_loc1_start</td>\n",
       "      <td>28.0</td>\n",
       "    </tr>\n",
       "    <tr>\n",
       "      <th>1</th>\n",
       "      <td>ID_721565577505030144_loc1_end</td>\n",
       "      <td>35.0</td>\n",
       "    </tr>\n",
       "    <tr>\n",
       "      <th>2</th>\n",
       "      <td>ID_721565577505030144_loc2_start</td>\n",
       "      <td>0.0</td>\n",
       "    </tr>\n",
       "    <tr>\n",
       "      <th>3</th>\n",
       "      <td>ID_721565577505030144_loc2_end</td>\n",
       "      <td>0.0</td>\n",
       "    </tr>\n",
       "    <tr>\n",
       "      <th>4</th>\n",
       "      <td>ID_721565577505030144_loc3_start</td>\n",
       "      <td>0.0</td>\n",
       "    </tr>\n",
       "    <tr>\n",
       "      <th>...</th>\n",
       "      <td>...</td>\n",
       "      <td>...</td>\n",
       "    </tr>\n",
       "    <tr>\n",
       "      <th>138239</th>\n",
       "      <td>ID_1177156754829926400_loc15_end</td>\n",
       "      <td>0.0</td>\n",
       "    </tr>\n",
       "    <tr>\n",
       "      <th>138240</th>\n",
       "      <td>ID_1177156754829926400_loc16_start</td>\n",
       "      <td>0.0</td>\n",
       "    </tr>\n",
       "    <tr>\n",
       "      <th>138241</th>\n",
       "      <td>ID_1177156754829926400_loc16_end</td>\n",
       "      <td>0.0</td>\n",
       "    </tr>\n",
       "    <tr>\n",
       "      <th>138242</th>\n",
       "      <td>ID_1177156754829926400_loc17_start</td>\n",
       "      <td>0.0</td>\n",
       "    </tr>\n",
       "    <tr>\n",
       "      <th>138243</th>\n",
       "      <td>ID_1177156754829926400_loc17_end</td>\n",
       "      <td>0.0</td>\n",
       "    </tr>\n",
       "  </tbody>\n",
       "</table>\n",
       "<p>138244 rows × 2 columns</p>\n",
       "</div>"
      ],
      "text/plain": [
       "                                  Tweet_ID  Index\n",
       "0         ID_721565577505030144_loc1_start   28.0\n",
       "1           ID_721565577505030144_loc1_end   35.0\n",
       "2         ID_721565577505030144_loc2_start    0.0\n",
       "3           ID_721565577505030144_loc2_end    0.0\n",
       "4         ID_721565577505030144_loc3_start    0.0\n",
       "...                                    ...    ...\n",
       "138239    ID_1177156754829926400_loc15_end    0.0\n",
       "138240  ID_1177156754829926400_loc16_start    0.0\n",
       "138241    ID_1177156754829926400_loc16_end    0.0\n",
       "138242  ID_1177156754829926400_loc17_start    0.0\n",
       "138243    ID_1177156754829926400_loc17_end    0.0\n",
       "\n",
       "[138244 rows x 2 columns]"
      ]
     },
     "execution_count": 7,
     "metadata": {},
     "output_type": "execute_result"
    }
   ],
   "source": [
    "sub"
   ]
  },
  {
   "cell_type": "code",
   "execution_count": 8,
   "id": "0518776d",
   "metadata": {},
   "outputs": [],
   "source": [
    "sub.to_csv(\"confirmation of reproducibility.csv\", index=False)"
   ]
  }
 ],
 "metadata": {
  "kernelspec": {
   "display_name": "Python 3 (ipykernel)",
   "language": "python",
   "name": "python3"
  },
  "language_info": {
   "codemirror_mode": {
    "name": "ipython",
    "version": 3
   },
   "file_extension": ".py",
   "mimetype": "text/x-python",
   "name": "python",
   "nbconvert_exporter": "python",
   "pygments_lexer": "ipython3",
   "version": "3.9.12"
  }
 },
 "nbformat": 4,
 "nbformat_minor": 5
}
